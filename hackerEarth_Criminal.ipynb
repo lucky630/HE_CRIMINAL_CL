{
 "cells": [
  {
   "cell_type": "code",
   "execution_count": 1,
   "metadata": {
    "collapsed": true
   },
   "outputs": [],
   "source": [
    "%matplotlib inline\n",
    "import numpy as np\n",
    "import os\n",
    "import matplotlib.pyplot as plt\n",
    "import seaborn as sns\n",
    "import pandas as pd"
   ]
  },
  {
   "cell_type": "markdown",
   "metadata": {},
   "source": [
    "after import change to respectivedirectory and read the csv file using pandas."
   ]
  },
  {
   "cell_type": "code",
   "execution_count": 2,
   "metadata": {
    "collapsed": true
   },
   "outputs": [],
   "source": [
    "os.chdir('C:\\\\Users\\\\royal\\\\Downloads\\\\Compressed\\\\data\\\\d17428d0-e-Criminal')"
   ]
  },
  {
   "cell_type": "code",
   "execution_count": 3,
   "metadata": {
    "collapsed": true
   },
   "outputs": [],
   "source": [
    "train=pd.read_csv('criminal_train.csv')"
   ]
  },
  {
   "cell_type": "code",
   "execution_count": 4,
   "metadata": {
    "collapsed": true
   },
   "outputs": [],
   "source": [
    "test=pd.read_csv('criminal_test.csv')"
   ]
  },
  {
   "cell_type": "code",
   "execution_count": 5,
   "metadata": {},
   "outputs": [
    {
     "data": {
      "text/html": [
       "<div>\n",
       "<style>\n",
       "    .dataframe thead tr:only-child th {\n",
       "        text-align: right;\n",
       "    }\n",
       "\n",
       "    .dataframe thead th {\n",
       "        text-align: left;\n",
       "    }\n",
       "\n",
       "    .dataframe tbody tr th {\n",
       "        vertical-align: top;\n",
       "    }\n",
       "</style>\n",
       "<table border=\"1\" class=\"dataframe\">\n",
       "  <thead>\n",
       "    <tr style=\"text-align: right;\">\n",
       "      <th></th>\n",
       "      <th>PERID</th>\n",
       "      <th>IFATHER</th>\n",
       "      <th>NRCH17_2</th>\n",
       "      <th>IRHHSIZ2</th>\n",
       "      <th>IIHHSIZ2</th>\n",
       "      <th>IRKI17_2</th>\n",
       "      <th>IIKI17_2</th>\n",
       "      <th>IRHH65_2</th>\n",
       "      <th>IIHH65_2</th>\n",
       "      <th>PRXRETRY</th>\n",
       "      <th>...</th>\n",
       "      <th>TOOLONG</th>\n",
       "      <th>TROUBUND</th>\n",
       "      <th>PDEN10</th>\n",
       "      <th>COUTYP2</th>\n",
       "      <th>MAIIN102</th>\n",
       "      <th>AIIND102</th>\n",
       "      <th>ANALWT_C</th>\n",
       "      <th>VESTR</th>\n",
       "      <th>VEREP</th>\n",
       "      <th>Criminal</th>\n",
       "    </tr>\n",
       "  </thead>\n",
       "  <tbody>\n",
       "    <tr>\n",
       "      <th>0</th>\n",
       "      <td>25095143</td>\n",
       "      <td>4</td>\n",
       "      <td>2</td>\n",
       "      <td>4</td>\n",
       "      <td>1</td>\n",
       "      <td>3</td>\n",
       "      <td>1</td>\n",
       "      <td>1</td>\n",
       "      <td>1</td>\n",
       "      <td>99</td>\n",
       "      <td>...</td>\n",
       "      <td>1</td>\n",
       "      <td>2</td>\n",
       "      <td>1</td>\n",
       "      <td>1</td>\n",
       "      <td>2</td>\n",
       "      <td>2</td>\n",
       "      <td>3884.805998</td>\n",
       "      <td>40026</td>\n",
       "      <td>1</td>\n",
       "      <td>0</td>\n",
       "    </tr>\n",
       "    <tr>\n",
       "      <th>1</th>\n",
       "      <td>13005143</td>\n",
       "      <td>4</td>\n",
       "      <td>1</td>\n",
       "      <td>3</td>\n",
       "      <td>1</td>\n",
       "      <td>2</td>\n",
       "      <td>1</td>\n",
       "      <td>1</td>\n",
       "      <td>1</td>\n",
       "      <td>99</td>\n",
       "      <td>...</td>\n",
       "      <td>2</td>\n",
       "      <td>2</td>\n",
       "      <td>2</td>\n",
       "      <td>3</td>\n",
       "      <td>2</td>\n",
       "      <td>2</td>\n",
       "      <td>1627.108106</td>\n",
       "      <td>40015</td>\n",
       "      <td>2</td>\n",
       "      <td>1</td>\n",
       "    </tr>\n",
       "    <tr>\n",
       "      <th>2</th>\n",
       "      <td>67415143</td>\n",
       "      <td>4</td>\n",
       "      <td>1</td>\n",
       "      <td>2</td>\n",
       "      <td>1</td>\n",
       "      <td>2</td>\n",
       "      <td>1</td>\n",
       "      <td>1</td>\n",
       "      <td>1</td>\n",
       "      <td>99</td>\n",
       "      <td>...</td>\n",
       "      <td>2</td>\n",
       "      <td>2</td>\n",
       "      <td>2</td>\n",
       "      <td>3</td>\n",
       "      <td>2</td>\n",
       "      <td>2</td>\n",
       "      <td>4344.957980</td>\n",
       "      <td>40024</td>\n",
       "      <td>1</td>\n",
       "      <td>0</td>\n",
       "    </tr>\n",
       "    <tr>\n",
       "      <th>3</th>\n",
       "      <td>70925143</td>\n",
       "      <td>4</td>\n",
       "      <td>0</td>\n",
       "      <td>2</td>\n",
       "      <td>1</td>\n",
       "      <td>1</td>\n",
       "      <td>1</td>\n",
       "      <td>1</td>\n",
       "      <td>1</td>\n",
       "      <td>99</td>\n",
       "      <td>...</td>\n",
       "      <td>2</td>\n",
       "      <td>2</td>\n",
       "      <td>1</td>\n",
       "      <td>1</td>\n",
       "      <td>2</td>\n",
       "      <td>2</td>\n",
       "      <td>792.521931</td>\n",
       "      <td>40027</td>\n",
       "      <td>1</td>\n",
       "      <td>0</td>\n",
       "    </tr>\n",
       "    <tr>\n",
       "      <th>4</th>\n",
       "      <td>75235143</td>\n",
       "      <td>1</td>\n",
       "      <td>0</td>\n",
       "      <td>6</td>\n",
       "      <td>1</td>\n",
       "      <td>4</td>\n",
       "      <td>1</td>\n",
       "      <td>1</td>\n",
       "      <td>1</td>\n",
       "      <td>99</td>\n",
       "      <td>...</td>\n",
       "      <td>2</td>\n",
       "      <td>2</td>\n",
       "      <td>2</td>\n",
       "      <td>2</td>\n",
       "      <td>2</td>\n",
       "      <td>2</td>\n",
       "      <td>1518.118526</td>\n",
       "      <td>40001</td>\n",
       "      <td>2</td>\n",
       "      <td>0</td>\n",
       "    </tr>\n",
       "  </tbody>\n",
       "</table>\n",
       "<p>5 rows × 72 columns</p>\n",
       "</div>"
      ],
      "text/plain": [
       "      PERID  IFATHER  NRCH17_2  IRHHSIZ2  IIHHSIZ2  IRKI17_2  IIKI17_2  \\\n",
       "0  25095143        4         2         4         1         3         1   \n",
       "1  13005143        4         1         3         1         2         1   \n",
       "2  67415143        4         1         2         1         2         1   \n",
       "3  70925143        4         0         2         1         1         1   \n",
       "4  75235143        1         0         6         1         4         1   \n",
       "\n",
       "   IRHH65_2  IIHH65_2  PRXRETRY    ...     TOOLONG  TROUBUND  PDEN10  COUTYP2  \\\n",
       "0         1         1        99    ...           1         2       1        1   \n",
       "1         1         1        99    ...           2         2       2        3   \n",
       "2         1         1        99    ...           2         2       2        3   \n",
       "3         1         1        99    ...           2         2       1        1   \n",
       "4         1         1        99    ...           2         2       2        2   \n",
       "\n",
       "   MAIIN102  AIIND102     ANALWT_C  VESTR  VEREP  Criminal  \n",
       "0         2         2  3884.805998  40026      1         0  \n",
       "1         2         2  1627.108106  40015      2         1  \n",
       "2         2         2  4344.957980  40024      1         0  \n",
       "3         2         2   792.521931  40027      1         0  \n",
       "4         2         2  1518.118526  40001      2         0  \n",
       "\n",
       "[5 rows x 72 columns]"
      ]
     },
     "execution_count": 5,
     "metadata": {},
     "output_type": "execute_result"
    }
   ],
   "source": [
    "##first 5 rows of training data\n",
    "train.head()"
   ]
  },
  {
   "cell_type": "code",
   "execution_count": 6,
   "metadata": {
    "collapsed": true
   },
   "outputs": [
    {
     "data": {
      "text/plain": [
       "Index(['PERID', 'IFATHER', 'NRCH17_2', 'IRHHSIZ2', 'IIHHSIZ2', 'IRKI17_2',\n",
       "       'IIKI17_2', 'IRHH65_2', 'IIHH65_2', 'PRXRETRY', 'PRXYDATA', 'MEDICARE',\n",
       "       'CAIDCHIP', 'CHAMPUS', 'PRVHLTIN', 'GRPHLTIN', 'HLTINNOS', 'HLCNOTYR',\n",
       "       'HLCNOTMO', 'HLCLAST', 'HLLOSRSN', 'HLNVCOST', 'HLNVOFFR', 'HLNVREF',\n",
       "       'HLNVNEED', 'HLNVSOR', 'IRMCDCHP', 'IIMCDCHP', 'IRMEDICR', 'IIMEDICR',\n",
       "       'IRCHMPUS', 'IICHMPUS', 'IRPRVHLT', 'IIPRVHLT', 'IROTHHLT', 'IIOTHHLT',\n",
       "       'HLCALLFG', 'HLCALL99', 'ANYHLTI2', 'IRINSUR4', 'IIINSUR4', 'OTHINS',\n",
       "       'CELLNOTCL', 'CELLWRKNG', 'IRFAMSOC', 'IIFAMSOC', 'IRFAMSSI',\n",
       "       'IIFAMSSI', 'IRFSTAMP', 'IIFSTAMP', 'IRFAMPMT', 'IIFAMPMT', 'IRFAMSVC',\n",
       "       'IIFAMSVC', 'IRWELMOS', 'IIWELMOS', 'IRPINC3', 'IRFAMIN3', 'IIPINC3',\n",
       "       'IIFAMIN3', 'GOVTPROG', 'POVERTY3', 'TOOLONG', 'TROUBUND', 'PDEN10',\n",
       "       'COUTYP2', 'MAIIN102', 'AIIND102', 'ANALWT_C', 'VESTR', 'VEREP',\n",
       "       'Criminal'],\n",
       "      dtype='object')"
      ]
     },
     "execution_count": 6,
     "metadata": {},
     "output_type": "execute_result"
    }
   ],
   "source": [
    "#column names\n",
    "train.columns"
   ]
  },
  {
   "cell_type": "code",
   "execution_count": 7,
   "metadata": {
    "collapsed": true
   },
   "outputs": [
    {
     "data": {
      "text/html": [
       "<div>\n",
       "<style>\n",
       "    .dataframe thead tr:only-child th {\n",
       "        text-align: right;\n",
       "    }\n",
       "\n",
       "    .dataframe thead th {\n",
       "        text-align: left;\n",
       "    }\n",
       "\n",
       "    .dataframe tbody tr th {\n",
       "        vertical-align: top;\n",
       "    }\n",
       "</style>\n",
       "<table border=\"1\" class=\"dataframe\">\n",
       "  <thead>\n",
       "    <tr style=\"text-align: right;\">\n",
       "      <th></th>\n",
       "      <th>PERID</th>\n",
       "      <th>IFATHER</th>\n",
       "      <th>NRCH17_2</th>\n",
       "      <th>IRHHSIZ2</th>\n",
       "      <th>IIHHSIZ2</th>\n",
       "      <th>IRKI17_2</th>\n",
       "      <th>IIKI17_2</th>\n",
       "      <th>IRHH65_2</th>\n",
       "      <th>IIHH65_2</th>\n",
       "      <th>PRXRETRY</th>\n",
       "      <th>...</th>\n",
       "      <th>POVERTY3</th>\n",
       "      <th>TOOLONG</th>\n",
       "      <th>TROUBUND</th>\n",
       "      <th>PDEN10</th>\n",
       "      <th>COUTYP2</th>\n",
       "      <th>MAIIN102</th>\n",
       "      <th>AIIND102</th>\n",
       "      <th>ANALWT_C</th>\n",
       "      <th>VESTR</th>\n",
       "      <th>VEREP</th>\n",
       "    </tr>\n",
       "  </thead>\n",
       "  <tbody>\n",
       "    <tr>\n",
       "      <th>0</th>\n",
       "      <td>66583679</td>\n",
       "      <td>4</td>\n",
       "      <td>0</td>\n",
       "      <td>4</td>\n",
       "      <td>1</td>\n",
       "      <td>2</td>\n",
       "      <td>1</td>\n",
       "      <td>1</td>\n",
       "      <td>1</td>\n",
       "      <td>99</td>\n",
       "      <td>...</td>\n",
       "      <td>2</td>\n",
       "      <td>2</td>\n",
       "      <td>2</td>\n",
       "      <td>1</td>\n",
       "      <td>1</td>\n",
       "      <td>2</td>\n",
       "      <td>2</td>\n",
       "      <td>16346.795400</td>\n",
       "      <td>40020</td>\n",
       "      <td>1</td>\n",
       "    </tr>\n",
       "    <tr>\n",
       "      <th>1</th>\n",
       "      <td>35494679</td>\n",
       "      <td>4</td>\n",
       "      <td>0</td>\n",
       "      <td>4</td>\n",
       "      <td>1</td>\n",
       "      <td>1</td>\n",
       "      <td>1</td>\n",
       "      <td>1</td>\n",
       "      <td>1</td>\n",
       "      <td>99</td>\n",
       "      <td>...</td>\n",
       "      <td>3</td>\n",
       "      <td>2</td>\n",
       "      <td>2</td>\n",
       "      <td>1</td>\n",
       "      <td>1</td>\n",
       "      <td>2</td>\n",
       "      <td>2</td>\n",
       "      <td>3008.863906</td>\n",
       "      <td>40044</td>\n",
       "      <td>2</td>\n",
       "    </tr>\n",
       "    <tr>\n",
       "      <th>2</th>\n",
       "      <td>79424679</td>\n",
       "      <td>2</td>\n",
       "      <td>0</td>\n",
       "      <td>3</td>\n",
       "      <td>1</td>\n",
       "      <td>2</td>\n",
       "      <td>1</td>\n",
       "      <td>1</td>\n",
       "      <td>1</td>\n",
       "      <td>99</td>\n",
       "      <td>...</td>\n",
       "      <td>1</td>\n",
       "      <td>2</td>\n",
       "      <td>2</td>\n",
       "      <td>2</td>\n",
       "      <td>2</td>\n",
       "      <td>2</td>\n",
       "      <td>2</td>\n",
       "      <td>266.952503</td>\n",
       "      <td>40040</td>\n",
       "      <td>2</td>\n",
       "    </tr>\n",
       "    <tr>\n",
       "      <th>3</th>\n",
       "      <td>11744679</td>\n",
       "      <td>4</td>\n",
       "      <td>0</td>\n",
       "      <td>6</td>\n",
       "      <td>1</td>\n",
       "      <td>2</td>\n",
       "      <td>1</td>\n",
       "      <td>1</td>\n",
       "      <td>1</td>\n",
       "      <td>99</td>\n",
       "      <td>...</td>\n",
       "      <td>3</td>\n",
       "      <td>2</td>\n",
       "      <td>2</td>\n",
       "      <td>1</td>\n",
       "      <td>1</td>\n",
       "      <td>2</td>\n",
       "      <td>2</td>\n",
       "      <td>5386.928199</td>\n",
       "      <td>40017</td>\n",
       "      <td>1</td>\n",
       "    </tr>\n",
       "    <tr>\n",
       "      <th>4</th>\n",
       "      <td>31554679</td>\n",
       "      <td>1</td>\n",
       "      <td>0</td>\n",
       "      <td>4</td>\n",
       "      <td>1</td>\n",
       "      <td>3</td>\n",
       "      <td>1</td>\n",
       "      <td>1</td>\n",
       "      <td>1</td>\n",
       "      <td>99</td>\n",
       "      <td>...</td>\n",
       "      <td>3</td>\n",
       "      <td>2</td>\n",
       "      <td>1</td>\n",
       "      <td>1</td>\n",
       "      <td>1</td>\n",
       "      <td>2</td>\n",
       "      <td>2</td>\n",
       "      <td>173.489895</td>\n",
       "      <td>40017</td>\n",
       "      <td>1</td>\n",
       "    </tr>\n",
       "  </tbody>\n",
       "</table>\n",
       "<p>5 rows × 71 columns</p>\n",
       "</div>"
      ],
      "text/plain": [
       "      PERID  IFATHER  NRCH17_2  IRHHSIZ2  IIHHSIZ2  IRKI17_2  IIKI17_2  \\\n",
       "0  66583679        4         0         4         1         2         1   \n",
       "1  35494679        4         0         4         1         1         1   \n",
       "2  79424679        2         0         3         1         2         1   \n",
       "3  11744679        4         0         6         1         2         1   \n",
       "4  31554679        1         0         4         1         3         1   \n",
       "\n",
       "   IRHH65_2  IIHH65_2  PRXRETRY  ...    POVERTY3  TOOLONG  TROUBUND  PDEN10  \\\n",
       "0         1         1        99  ...           2        2         2       1   \n",
       "1         1         1        99  ...           3        2         2       1   \n",
       "2         1         1        99  ...           1        2         2       2   \n",
       "3         1         1        99  ...           3        2         2       1   \n",
       "4         1         1        99  ...           3        2         1       1   \n",
       "\n",
       "   COUTYP2  MAIIN102  AIIND102      ANALWT_C  VESTR  VEREP  \n",
       "0        1         2         2  16346.795400  40020      1  \n",
       "1        1         2         2   3008.863906  40044      2  \n",
       "2        2         2         2    266.952503  40040      2  \n",
       "3        1         2         2   5386.928199  40017      1  \n",
       "4        1         2         2    173.489895  40017      1  \n",
       "\n",
       "[5 rows x 71 columns]"
      ]
     },
     "execution_count": 7,
     "metadata": {},
     "output_type": "execute_result"
    }
   ],
   "source": [
    "##first 5 rows of testing data\n",
    "test.head()"
   ]
  },
  {
   "cell_type": "code",
   "execution_count": 8,
   "metadata": {},
   "outputs": [
    {
     "data": {
      "text/plain": [
       "Criminal\n",
       "0    42543\n",
       "1     3175\n",
       "Name: Criminal, dtype: int64"
      ]
     },
     "execution_count": 8,
     "metadata": {},
     "output_type": "execute_result"
    }
   ],
   "source": [
    "##get count of criminal type using groupby function\n",
    "train.groupby('Criminal')['Criminal'].count()"
   ]
  },
  {
   "cell_type": "markdown",
   "metadata": {},
   "source": [
    "Get the unique values for all the columns to know type of values and range of values \n",
    "\n",
    "And there is any need for feature scaling or not."
   ]
  },
  {
   "cell_type": "code",
   "execution_count": 20,
   "metadata": {
    "collapsed": true
   },
   "outputs": [
    {
     "name": "stdout",
     "output_type": "stream",
     "text": [
      "PERID [66583679 35494679 79424679 ..., 80134730 65323398 90906563]\n",
      "IFATHER [4 2 1 3]\n",
      "NRCH17_2 [ 0  1  3  2 -1]\n",
      "IRHHSIZ2 [4 3 6 2 1 5]\n",
      "IIHHSIZ2 [1 3]\n",
      "IRKI17_2 [2 1 3 4]\n",
      "IIKI17_2 [1 3]\n",
      "IRHH65_2 [1 2 3]\n",
      "IIHH65_2 [1 3 2]\n",
      "PRXRETRY [99  2 94 98]\n",
      "PRXYDATA [99  1  2 94 98]\n",
      "MEDICARE [ 2  1 97 94 85 98]\n",
      "CAIDCHIP [ 2  1 94 97 85 98]\n",
      "CHAMPUS [ 2  1 94 85 98 97]\n",
      "PRVHLTIN [ 1  2 94 97 85 98]\n",
      "GRPHLTIN [ 1 99  2 98 97 94 85]\n",
      "HLTINNOS [99  2  1 94 98 97]\n",
      "HLCNOTYR [ 2 99  1 98 94 97 85]\n",
      "HLCNOTMO [99  1  4 10  2  3  7  9  6 98  8  5 11 12 94 97]\n",
      "HLCLAST [99  4  5  3  1  2 98 94 97]\n",
      "HLLOSRSN [99  3 10  2  4  7  1  6 98  5 11 12  8 97 94 85  9]\n",
      "HLNVCOST [99  6  1 98 97]\n",
      "HLNVOFFR [99  6  1 98 97]\n",
      "HLNVREF [99  6 98 97  1]\n",
      "HLNVNEED [99  6 98  1 97]\n",
      "HLNVSOR [99  1  6 98 97]\n",
      "IRMCDCHP [2 1]\n",
      "IIMCDCHP [1 3]\n",
      "IRMEDICR [2 1]\n",
      "IIMEDICR [1 3]\n",
      "IRCHMPUS [2 1]\n",
      "IICHMPUS [1 3]\n",
      "IRPRVHLT [1 2]\n",
      "IIPRVHLT [1 3]\n",
      "IROTHHLT [99  2  1]\n",
      "IIOTHHLT [9 1 3]\n",
      "HLCALLFG [98  1]\n",
      "HLCALL99 [98  1]\n",
      "ANYHLTI2 [ 1  2 94 97 98]\n",
      "IRINSUR4 [1 2]\n",
      "IIINSUR4 [1 3]\n",
      "OTHINS [2 1]\n",
      "CELLNOTCL [ 2  1 97 94 85 98]\n",
      "CELLWRKNG [ 1  2 97 94 85 98]\n",
      "IRFAMSOC [2 1]\n",
      "IIFAMSOC [1 3]\n",
      "IRFAMSSI [2 1]\n",
      "IIFAMSSI [1 3]\n",
      "IRFSTAMP [2 1]\n",
      "IIFSTAMP [1 3]\n",
      "IRFAMPMT [2 1]\n",
      "IIFAMPMT [1 3]\n",
      "IRFAMSVC [2 1]\n",
      "IIFAMSVC [1 3]\n",
      "IRWELMOS [99  6  1 10  3 12  5  9  4  2  7  8 11]\n",
      "IIWELMOS [9 1 3]\n",
      "IRPINC3 [2 7 1 5 3 4 6]\n",
      "IRFAMIN3 [3 7 2 6 4 5 1]\n",
      "IIPINC3 [1 3]\n",
      "IIFAMIN3 [1 3]\n",
      "GOVTPROG [2 1]\n",
      "POVERTY3 [ 2  3  1 -1]\n",
      "TOOLONG [ 2  1 98]\n",
      "TROUBUND [ 2  1 98]\n",
      "PDEN10 [1 2 3]\n",
      "COUTYP2 [1 2 3]\n",
      "MAIIN102 [2 1]\n",
      "AIIND102 [2 1]\n",
      "ANALWT_C [ 16346.7954      3008.863906     266.9525029 ...,   4372.865218\n",
      "   6436.160608    3637.081687 ]\n",
      "VESTR [40020 40044 40040 40017 40035 40015 40022 40023 40019 40006 40042 40007\n",
      " 40047 40014 40029 40048 40028 40005 40009 40026 40033 40050 40045 40030\n",
      " 40041 40036 40010 40027 40046 40002 40034 40001 40039 40013 40003 40008\n",
      " 40025 40031 40016 40012 40021 40049 40018 40024 40032 40043 40038 40037\n",
      " 40004 40011]\n",
      "VEREP [1 2]\n"
     ]
    }
   ],
   "source": [
    "# for i in train.columns:\n",
    "#     print(i,train[i].unique())\n",
    "for i in test.columns:\n",
    "    print(i,test[i].unique())"
   ]
  },
  {
   "cell_type": "markdown",
   "metadata": {},
   "source": [
    "null values are represented in the data using -1 value.\n",
    "\n",
    "so get the len of -1 containing rows and then drop those rows."
   ]
  },
  {
   "cell_type": "code",
   "execution_count": 9,
   "metadata": {
    "collapsed": true
   },
   "outputs": [
    {
     "name": "stdout",
     "output_type": "stream",
     "text": [
      "PERID 0\n",
      "IFATHER 0\n",
      "NRCH17_2 8\n",
      "IRHHSIZ2 0\n",
      "IIHHSIZ2 0\n",
      "IRKI17_2 0\n",
      "IIKI17_2 0\n",
      "IRHH65_2 0\n",
      "IIHH65_2 0\n",
      "PRXRETRY 0\n",
      "PRXYDATA 0\n",
      "MEDICARE 0\n",
      "CAIDCHIP 0\n",
      "CHAMPUS 0\n",
      "PRVHLTIN 0\n",
      "GRPHLTIN 0\n",
      "HLTINNOS 0\n",
      "HLCNOTYR 0\n",
      "HLCNOTMO 0\n",
      "HLCLAST 0\n",
      "HLLOSRSN 0\n",
      "HLNVCOST 0\n",
      "HLNVOFFR 0\n",
      "HLNVREF 0\n",
      "HLNVNEED 0\n",
      "HLNVSOR 0\n",
      "IRMCDCHP 0\n",
      "IIMCDCHP 0\n",
      "IRMEDICR 0\n",
      "IIMEDICR 0\n",
      "IRCHMPUS 0\n",
      "IICHMPUS 0\n",
      "IRPRVHLT 0\n",
      "IIPRVHLT 0\n",
      "IROTHHLT 0\n",
      "IIOTHHLT 0\n",
      "HLCALLFG 0\n",
      "HLCALL99 0\n",
      "ANYHLTI2 0\n",
      "IRINSUR4 0\n",
      "IIINSUR4 0\n",
      "OTHINS 0\n",
      "CELLNOTCL 0\n",
      "CELLWRKNG 0\n",
      "IRFAMSOC 0\n",
      "IIFAMSOC 0\n",
      "IRFAMSSI 0\n",
      "IIFAMSSI 0\n",
      "IRFSTAMP 0\n",
      "IIFSTAMP 0\n",
      "IRFAMPMT 0\n",
      "IIFAMPMT 0\n",
      "IRFAMSVC 0\n",
      "IIFAMSVC 0\n",
      "IRWELMOS 0\n",
      "IIWELMOS 0\n",
      "IRPINC3 0\n",
      "IRFAMIN3 0\n",
      "IIPINC3 0\n",
      "IIFAMIN3 0\n",
      "GOVTPROG 0\n",
      "POVERTY3 76\n",
      "TOOLONG 0\n",
      "TROUBUND 0\n",
      "PDEN10 0\n",
      "COUTYP2 0\n",
      "MAIIN102 0\n",
      "AIIND102 0\n",
      "ANALWT_C 0\n",
      "VESTR 0\n",
      "VEREP 0\n"
     ]
    }
   ],
   "source": [
    "# for i in train.columns:\n",
    "#     print(i,len(train[train[i]==-1]))\n",
    "for i in test.columns:\n",
    "    print(i,len(test[test[i]==-1]))"
   ]
  },
  {
   "cell_type": "code",
   "execution_count": 16,
   "metadata": {
    "collapsed": true
   },
   "outputs": [
    {
     "name": "stdout",
     "output_type": "stream",
     "text": [
      "PERID Int64Index([], dtype='int64')\n",
      "IFATHER Int64Index([], dtype='int64')\n",
      "NRCH17_2 Int64Index([], dtype='int64')\n",
      "IRHHSIZ2 Int64Index([], dtype='int64')\n",
      "IIHHSIZ2 Int64Index([], dtype='int64')\n",
      "IRKI17_2 Int64Index([], dtype='int64')\n",
      "IIKI17_2 Int64Index([], dtype='int64')\n",
      "IRHH65_2 Int64Index([], dtype='int64')\n",
      "IIHH65_2 Int64Index([], dtype='int64')\n",
      "PRXRETRY Int64Index([], dtype='int64')\n",
      "PRXYDATA Int64Index([], dtype='int64')\n",
      "MEDICARE Int64Index([], dtype='int64')\n",
      "CAIDCHIP Int64Index([], dtype='int64')\n",
      "CHAMPUS Int64Index([], dtype='int64')\n",
      "PRVHLTIN Int64Index([], dtype='int64')\n",
      "GRPHLTIN Int64Index([], dtype='int64')\n",
      "HLTINNOS Int64Index([], dtype='int64')\n",
      "HLCNOTYR Int64Index([], dtype='int64')\n",
      "HLCNOTMO Int64Index([], dtype='int64')\n",
      "HLCLAST Int64Index([], dtype='int64')\n",
      "HLLOSRSN Int64Index([], dtype='int64')\n",
      "HLNVCOST Int64Index([], dtype='int64')\n",
      "HLNVOFFR Int64Index([], dtype='int64')\n",
      "HLNVREF Int64Index([], dtype='int64')\n",
      "HLNVNEED Int64Index([], dtype='int64')\n",
      "HLNVSOR Int64Index([], dtype='int64')\n",
      "IRMCDCHP Int64Index([], dtype='int64')\n",
      "IIMCDCHP Int64Index([], dtype='int64')\n",
      "IRMEDICR Int64Index([], dtype='int64')\n",
      "IIMEDICR Int64Index([], dtype='int64')\n",
      "IRCHMPUS Int64Index([], dtype='int64')\n",
      "IICHMPUS Int64Index([], dtype='int64')\n",
      "IRPRVHLT Int64Index([], dtype='int64')\n",
      "IIPRVHLT Int64Index([], dtype='int64')\n",
      "IROTHHLT Int64Index([], dtype='int64')\n",
      "IIOTHHLT Int64Index([], dtype='int64')\n",
      "HLCALLFG Int64Index([], dtype='int64')\n",
      "HLCALL99 Int64Index([], dtype='int64')\n",
      "ANYHLTI2 Int64Index([], dtype='int64')\n",
      "IRINSUR4 Int64Index([], dtype='int64')\n",
      "IIINSUR4 Int64Index([], dtype='int64')\n",
      "OTHINS Int64Index([], dtype='int64')\n",
      "CELLNOTCL Int64Index([], dtype='int64')\n",
      "CELLWRKNG Int64Index([], dtype='int64')\n",
      "IRFAMSOC Int64Index([], dtype='int64')\n",
      "IIFAMSOC Int64Index([], dtype='int64')\n",
      "IRFAMSSI Int64Index([], dtype='int64')\n",
      "IIFAMSSI Int64Index([], dtype='int64')\n",
      "IRFSTAMP Int64Index([], dtype='int64')\n",
      "IIFSTAMP Int64Index([], dtype='int64')\n",
      "IRFAMPMT Int64Index([], dtype='int64')\n",
      "IIFAMPMT Int64Index([], dtype='int64')\n",
      "IRFAMSVC Int64Index([], dtype='int64')\n",
      "IIFAMSVC Int64Index([], dtype='int64')\n",
      "IRWELMOS Int64Index([], dtype='int64')\n",
      "IIWELMOS Int64Index([], dtype='int64')\n",
      "IRPINC3 Int64Index([], dtype='int64')\n",
      "IRFAMIN3 Int64Index([], dtype='int64')\n",
      "IIPINC3 Int64Index([], dtype='int64')\n",
      "IIFAMIN3 Int64Index([], dtype='int64')\n",
      "GOVTPROG Int64Index([], dtype='int64')\n",
      "POVERTY3 Int64Index([], dtype='int64')\n",
      "TOOLONG Int64Index([], dtype='int64')\n",
      "TROUBUND Int64Index([], dtype='int64')\n",
      "PDEN10 Int64Index([], dtype='int64')\n",
      "COUTYP2 Int64Index([], dtype='int64')\n",
      "MAIIN102 Int64Index([], dtype='int64')\n",
      "AIIND102 Int64Index([], dtype='int64')\n",
      "ANALWT_C Int64Index([], dtype='int64')\n",
      "VESTR Int64Index([], dtype='int64')\n",
      "VEREP Int64Index([], dtype='int64')\n",
      "Criminal Int64Index([], dtype='int64')\n"
     ]
    }
   ],
   "source": [
    "for i in train.columns:\n",
    "    print(i,train[train[i]==-1].index)"
   ]
  },
  {
   "cell_type": "code",
   "execution_count": 10,
   "metadata": {
    "collapsed": true
   },
   "outputs": [],
   "source": [
    "train.drop([19230, 44281],inplace=True)"
   ]
  },
  {
   "cell_type": "code",
   "execution_count": 11,
   "metadata": {},
   "outputs": [
    {
     "data": {
      "text/plain": [
       "45716"
      ]
     },
     "execution_count": 11,
     "metadata": {},
     "output_type": "execute_result"
    }
   ],
   "source": [
    "len(train)"
   ]
  },
  {
   "cell_type": "code",
   "execution_count": 12,
   "metadata": {
    "scrolled": true
   },
   "outputs": [
    {
     "data": {
      "text/html": [
       "<div>\n",
       "<style>\n",
       "    .dataframe thead tr:only-child th {\n",
       "        text-align: right;\n",
       "    }\n",
       "\n",
       "    .dataframe thead th {\n",
       "        text-align: left;\n",
       "    }\n",
       "\n",
       "    .dataframe tbody tr th {\n",
       "        vertical-align: top;\n",
       "    }\n",
       "</style>\n",
       "<table border=\"1\" class=\"dataframe\">\n",
       "  <thead>\n",
       "    <tr style=\"text-align: right;\">\n",
       "      <th>Criminal</th>\n",
       "      <th>0</th>\n",
       "      <th>1</th>\n",
       "    </tr>\n",
       "    <tr>\n",
       "      <th>POVERTY3</th>\n",
       "      <th></th>\n",
       "      <th></th>\n",
       "    </tr>\n",
       "  </thead>\n",
       "  <tbody>\n",
       "    <tr>\n",
       "      <th>-1</th>\n",
       "      <td>235</td>\n",
       "      <td>106</td>\n",
       "    </tr>\n",
       "    <tr>\n",
       "      <th>1</th>\n",
       "      <td>8489</td>\n",
       "      <td>842</td>\n",
       "    </tr>\n",
       "    <tr>\n",
       "      <th>2</th>\n",
       "      <td>8767</td>\n",
       "      <td>1458</td>\n",
       "    </tr>\n",
       "    <tr>\n",
       "      <th>3</th>\n",
       "      <td>25050</td>\n",
       "      <td>769</td>\n",
       "    </tr>\n",
       "  </tbody>\n",
       "</table>\n",
       "</div>"
      ],
      "text/plain": [
       "Criminal      0     1\n",
       "POVERTY3             \n",
       "-1          235   106\n",
       " 1         8489   842\n",
       " 2         8767  1458\n",
       " 3        25050   769"
      ]
     },
     "execution_count": 12,
     "metadata": {},
     "output_type": "execute_result"
    }
   ],
   "source": [
    "# pd.crosstab(train.POVERTY3,train.Criminal)\n",
    "pd.crosstab(train.POVERTY3,train.Criminal)"
   ]
  },
  {
   "cell_type": "markdown",
   "metadata": {},
   "source": [
    "get the count of different value in the column \n",
    "\n",
    "so that -1 will replaced by highest occur value in the test data."
   ]
  },
  {
   "cell_type": "code",
   "execution_count": 13,
   "metadata": {
    "collapsed": true
   },
   "outputs": [
    {
     "data": {
      "text/plain": [
       "<matplotlib.axes._subplots.AxesSubplot at 0x9b5d5f8>"
      ]
     },
     "execution_count": 13,
     "metadata": {},
     "output_type": "execute_result"
    },
    {
     "data": {
      "image/png": "[encoded data removed]",
      "text/plain": [
       "<matplotlib.figure.Figure at 0xabbdf60>"
      ]
     },
     "metadata": {},
     "output_type": "display_data"
    }
   ],
   "source": [
    "sns.countplot(test.NRCH17_2)"
   ]
  },
  {
   "cell_type": "code",
   "execution_count": 14,
   "metadata": {
    "collapsed": true
   },
   "outputs": [],
   "source": [
    "l=['POVERTY3','NRCH17_2']\n",
    "for i in l:\n",
    "    train.drop(train[train[i]==-1].index,inplace=True)"
   ]
  },
  {
   "cell_type": "code",
   "execution_count": 15,
   "metadata": {
    "collapsed": true
   },
   "outputs": [],
   "source": [
    "##get the perid column and criminal column have to used during creating model\n",
    "tr_PERID=train['PERID']\n",
    "ts_Criminal=train['Criminal']\n",
    "\n",
    "train1=train.drop(['PERID','Criminal'],axis=1)"
   ]
  },
  {
   "cell_type": "code",
   "execution_count": 30,
   "metadata": {},
   "outputs": [
    {
     "data": {
      "text/html": [
       "<div>\n",
       "<style>\n",
       "    .dataframe thead tr:only-child th {\n",
       "        text-align: right;\n",
       "    }\n",
       "\n",
       "    .dataframe thead th {\n",
       "        text-align: left;\n",
       "    }\n",
       "\n",
       "    .dataframe tbody tr th {\n",
       "        vertical-align: top;\n",
       "    }\n",
       "</style>\n",
       "<table border=\"1\" class=\"dataframe\">\n",
       "  <thead>\n",
       "    <tr style=\"text-align: right;\">\n",
       "      <th></th>\n",
       "      <th>IFATHER</th>\n",
       "      <th>NRCH17_2</th>\n",
       "      <th>IRHHSIZ2</th>\n",
       "      <th>IIHHSIZ2</th>\n",
       "      <th>IRKI17_2</th>\n",
       "      <th>IIKI17_2</th>\n",
       "      <th>IRHH65_2</th>\n",
       "      <th>IIHH65_2</th>\n",
       "      <th>PRXRETRY</th>\n",
       "      <th>PRXYDATA</th>\n",
       "      <th>...</th>\n",
       "      <th>POVERTY3</th>\n",
       "      <th>TOOLONG</th>\n",
       "      <th>TROUBUND</th>\n",
       "      <th>PDEN10</th>\n",
       "      <th>COUTYP2</th>\n",
       "      <th>MAIIN102</th>\n",
       "      <th>AIIND102</th>\n",
       "      <th>ANALWT_C</th>\n",
       "      <th>VESTR</th>\n",
       "      <th>VEREP</th>\n",
       "    </tr>\n",
       "  </thead>\n",
       "  <tbody>\n",
       "    <tr>\n",
       "      <th>0</th>\n",
       "      <td>4</td>\n",
       "      <td>0</td>\n",
       "      <td>4</td>\n",
       "      <td>1</td>\n",
       "      <td>2</td>\n",
       "      <td>1</td>\n",
       "      <td>1</td>\n",
       "      <td>1</td>\n",
       "      <td>99</td>\n",
       "      <td>99</td>\n",
       "      <td>...</td>\n",
       "      <td>2</td>\n",
       "      <td>2</td>\n",
       "      <td>2</td>\n",
       "      <td>1</td>\n",
       "      <td>1</td>\n",
       "      <td>2</td>\n",
       "      <td>2</td>\n",
       "      <td>16346.795400</td>\n",
       "      <td>40020</td>\n",
       "      <td>1</td>\n",
       "    </tr>\n",
       "    <tr>\n",
       "      <th>1</th>\n",
       "      <td>4</td>\n",
       "      <td>0</td>\n",
       "      <td>4</td>\n",
       "      <td>1</td>\n",
       "      <td>1</td>\n",
       "      <td>1</td>\n",
       "      <td>1</td>\n",
       "      <td>1</td>\n",
       "      <td>99</td>\n",
       "      <td>99</td>\n",
       "      <td>...</td>\n",
       "      <td>3</td>\n",
       "      <td>2</td>\n",
       "      <td>2</td>\n",
       "      <td>1</td>\n",
       "      <td>1</td>\n",
       "      <td>2</td>\n",
       "      <td>2</td>\n",
       "      <td>3008.863906</td>\n",
       "      <td>40044</td>\n",
       "      <td>2</td>\n",
       "    </tr>\n",
       "    <tr>\n",
       "      <th>2</th>\n",
       "      <td>2</td>\n",
       "      <td>0</td>\n",
       "      <td>3</td>\n",
       "      <td>1</td>\n",
       "      <td>2</td>\n",
       "      <td>1</td>\n",
       "      <td>1</td>\n",
       "      <td>1</td>\n",
       "      <td>99</td>\n",
       "      <td>1</td>\n",
       "      <td>...</td>\n",
       "      <td>1</td>\n",
       "      <td>2</td>\n",
       "      <td>2</td>\n",
       "      <td>2</td>\n",
       "      <td>2</td>\n",
       "      <td>2</td>\n",
       "      <td>2</td>\n",
       "      <td>266.952503</td>\n",
       "      <td>40040</td>\n",
       "      <td>2</td>\n",
       "    </tr>\n",
       "    <tr>\n",
       "      <th>3</th>\n",
       "      <td>4</td>\n",
       "      <td>0</td>\n",
       "      <td>6</td>\n",
       "      <td>1</td>\n",
       "      <td>2</td>\n",
       "      <td>1</td>\n",
       "      <td>1</td>\n",
       "      <td>1</td>\n",
       "      <td>99</td>\n",
       "      <td>99</td>\n",
       "      <td>...</td>\n",
       "      <td>3</td>\n",
       "      <td>2</td>\n",
       "      <td>2</td>\n",
       "      <td>1</td>\n",
       "      <td>1</td>\n",
       "      <td>2</td>\n",
       "      <td>2</td>\n",
       "      <td>5386.928199</td>\n",
       "      <td>40017</td>\n",
       "      <td>1</td>\n",
       "    </tr>\n",
       "    <tr>\n",
       "      <th>4</th>\n",
       "      <td>1</td>\n",
       "      <td>0</td>\n",
       "      <td>4</td>\n",
       "      <td>1</td>\n",
       "      <td>3</td>\n",
       "      <td>1</td>\n",
       "      <td>1</td>\n",
       "      <td>1</td>\n",
       "      <td>99</td>\n",
       "      <td>1</td>\n",
       "      <td>...</td>\n",
       "      <td>3</td>\n",
       "      <td>2</td>\n",
       "      <td>1</td>\n",
       "      <td>1</td>\n",
       "      <td>1</td>\n",
       "      <td>2</td>\n",
       "      <td>2</td>\n",
       "      <td>173.489895</td>\n",
       "      <td>40017</td>\n",
       "      <td>1</td>\n",
       "    </tr>\n",
       "  </tbody>\n",
       "</table>\n",
       "<p>5 rows × 70 columns</p>\n",
       "</div>"
      ],
      "text/plain": [
       "   IFATHER  NRCH17_2  IRHHSIZ2  IIHHSIZ2  IRKI17_2  IIKI17_2  IRHH65_2  \\\n",
       "0        4         0         4         1         2         1         1   \n",
       "1        4         0         4         1         1         1         1   \n",
       "2        2         0         3         1         2         1         1   \n",
       "3        4         0         6         1         2         1         1   \n",
       "4        1         0         4         1         3         1         1   \n",
       "\n",
       "   IIHH65_2  PRXRETRY  PRXYDATA  ...    POVERTY3  TOOLONG  TROUBUND  PDEN10  \\\n",
       "0         1        99        99  ...           2        2         2       1   \n",
       "1         1        99        99  ...           3        2         2       1   \n",
       "2         1        99         1  ...           1        2         2       2   \n",
       "3         1        99        99  ...           3        2         2       1   \n",
       "4         1        99         1  ...           3        2         1       1   \n",
       "\n",
       "   COUTYP2  MAIIN102  AIIND102      ANALWT_C  VESTR  VEREP  \n",
       "0        1         2         2  16346.795400  40020      1  \n",
       "1        1         2         2   3008.863906  40044      2  \n",
       "2        2         2         2    266.952503  40040      2  \n",
       "3        1         2         2   5386.928199  40017      1  \n",
       "4        1         2         2    173.489895  40017      1  \n",
       "\n",
       "[5 rows x 70 columns]"
      ]
     },
     "execution_count": 30,
     "metadata": {},
     "output_type": "execute_result"
    }
   ],
   "source": [
    "# train1.head()\n",
    "test1.head()"
   ]
  },
  {
   "cell_type": "code",
   "execution_count": 17,
   "metadata": {
    "collapsed": true
   },
   "outputs": [],
   "source": [
    "test['POVERTY3'].replace(-1,3,inplace=True)\n",
    "test['NRCH17_2'].replace(-1,0,inplace=True)"
   ]
  },
  {
   "cell_type": "code",
   "execution_count": 18,
   "metadata": {
    "collapsed": true
   },
   "outputs": [],
   "source": [
    "ts_PERID=test['PERID']"
   ]
  },
  {
   "cell_type": "code",
   "execution_count": 29,
   "metadata": {
    "collapsed": true
   },
   "outputs": [],
   "source": [
    "test1=test.drop(['PERID'],axis=1)"
   ]
  },
  {
   "cell_type": "markdown",
   "metadata": {},
   "source": [
    "first using the Training data only split into train and test in (.7,.3) ratio.\n",
    "\n",
    "so that different models accuracy can be found.\n",
    "\n",
    "following models are tested.\n",
    "1. KNeighborsClassifier\n",
    "2. LinearRegression\n",
    "3. RandomForestClassifier\n",
    "4. LogisticRegression\n",
    "5. Lasso\n",
    "\n",
    "And in the last RandomForestClassifier have been chosen because of accuracy near to 94.6."
   ]
  },
  {
   "cell_type": "code",
   "execution_count": 42,
   "metadata": {
    "scrolled": true
   },
   "outputs": [],
   "source": [
    "from sklearn.neighbors import KNeighborsClassifier\n",
    "from sklearn.cross_validation import train_test_split\n",
    "x,y = train1,ts_Criminal\n",
    "x_train,x_test,y_train,y_test = train_test_split(x,y,test_size = 0.3,random_state = 1)\n",
    "dd1={}\n",
    "for i in range(2,10):\n",
    "    model = KNeighborsClassifier(n_neighbors = i)\n",
    "    model.fit(x_train,y_train)\n",
    "    prediction_knn = model.predict(x_test)\n",
    "    dd1[i]=model.score(x_test,y_test)"
   ]
  },
  {
   "cell_type": "code",
   "execution_count": 43,
   "metadata": {},
   "outputs": [
    {
     "data": {
      "text/plain": [
       "{2: 0.93001177509567268,\n",
       " 3: 0.92279952899617312,\n",
       " 4: 0.93317633205769801,\n",
       " 5: 0.931262879010892,\n",
       " 6: 0.93428024727700909,\n",
       " 7: 0.9338386811892847,\n",
       " 8: 0.93428024727700909,\n",
       " 9: 0.93413305858110096}"
      ]
     },
     "execution_count": 43,
     "metadata": {},
     "output_type": "execute_result"
    }
   ],
   "source": [
    "dd1"
   ]
  },
  {
   "cell_type": "code",
   "execution_count": 22,
   "metadata": {},
   "outputs": [
    {
     "data": {
      "text/plain": [
       "272"
      ]
     },
     "execution_count": 22,
     "metadata": {},
     "output_type": "execute_result"
    }
   ],
   "source": [
    "len([i for i in prediction_knn if i==1])"
   ]
  },
  {
   "cell_type": "code",
   "execution_count": 23,
   "metadata": {},
   "outputs": [
    {
     "name": "stdout",
     "output_type": "stream",
     "text": [
      "0.21202416471\n"
     ]
    }
   ],
   "source": [
    "from sklearn.linear_model import LinearRegression\n",
    "from sklearn.cross_validation import train_test_split\n",
    "x,y = train1,ts_Criminal\n",
    "x_train,x_test,y_train,y_test = train_test_split(x,y,test_size = 0.3,random_state = 1)\n",
    "model = LinearRegression()\n",
    "model.fit(x_train,y_train)\n",
    "prediction_lr = model.predict(x_test)\n",
    "print(model.score(x_test,y_test))"
   ]
  },
  {
   "cell_type": "code",
   "execution_count": 34,
   "metadata": {},
   "outputs": [],
   "source": [
    "from sklearn.ensemble import RandomForestClassifier\n",
    "from sklearn.cross_validation import train_test_split\n",
    "x,y = train1,ts_Criminal\n",
    "x_train,x_test,y_train,y_test = train_test_split(x,y,test_size = 0.3,random_state = 1)\n",
    "dd={}\n",
    "for i in range(2,18):\n",
    "    model = RandomForestClassifier(random_state = i)\n",
    "    model.fit(x_train,y_train)\n",
    "    prediction_rfc = model.predict(x_test)\n",
    "    dd[i]=model.score(x_test,y_test)"
   ]
  },
  {
   "cell_type": "code",
   "execution_count": 35,
   "metadata": {
    "collapsed": true
   },
   "outputs": [
    {
     "data": {
      "text/plain": [
       "{2: 0.94936708860759489,\n",
       " 3: 0.94936708860759489,\n",
       " 4: 0.94885192817191644,\n",
       " 5: 0.94855755078010007,\n",
       " 6: 0.94789520164851337,\n",
       " 7: 0.94826317338828381,\n",
       " 8: 0.94782160730055931,\n",
       " 9: 0.94929349425964082,\n",
       " 10: 0.94855755078010007,\n",
       " 11: 0.94980865469531939,\n",
       " 12: 0.94944068295554906,\n",
       " 13: 0.95047100382690608,\n",
       " 14: 0.94980865469531939,\n",
       " 15: 0.94877833382396237,\n",
       " 16: 0.94752722990874305,\n",
       " 17: 0.9491463055637327}"
      ]
     },
     "execution_count": 35,
     "metadata": {},
     "output_type": "execute_result"
    }
   ],
   "source": [
    "dd"
   ]
  },
  {
   "cell_type": "code",
   "execution_count": 25,
   "metadata": {},
   "outputs": [
    {
     "name": "stdout",
     "output_type": "stream",
     "text": [
      "0.934795407713\n"
     ]
    }
   ],
   "source": [
    "from sklearn.linear_model import LogisticRegression\n",
    "from sklearn.cross_validation import train_test_split\n",
    "x,y = train1,ts_Criminal\n",
    "x_train,x_test,y_train,y_test = train_test_split(x,y,test_size = 0.3,random_state = 1)\n",
    "model = LogisticRegression()\n",
    "model.fit(x_train,y_train)\n",
    "prediction_logr = model.predict(x_test)\n",
    "print(model.score(x_test,y_test))"
   ]
  },
  {
   "cell_type": "code",
   "execution_count": 39,
   "metadata": {},
   "outputs": [
    {
     "name": "stdout",
     "output_type": "stream",
     "text": [
      "0.934795407713\n"
     ]
    }
   ],
   "source": [
    "from sklearn.linear_model import Lasso\n",
    "from sklearn.cross_validation import train_test_split\n",
    "x,y = train1,ts_Criminal\n",
    "x_train,x_test,y_train,y_test = train_test_split(x,y,test_size = 0.3,random_state = 1)\n",
    "model = LogisticRegression()\n",
    "model.fit(x_train,y_train)\n",
    "prediction_logr = model.predict(x_test)\n",
    "print(model.score(x_test,y_test))"
   ]
  },
  {
   "cell_type": "code",
   "execution_count": 36,
   "metadata": {},
   "outputs": [
    {
     "name": "stdout",
     "output_type": "stream",
     "text": [
      "[0 0 0 0 0 0 0 0 0 0]\n"
     ]
    }
   ],
   "source": [
    "from sklearn.ensemble import RandomForestClassifier\n",
    "model = RandomForestClassifier(random_state = 13)\n",
    "model.fit(train1,ts_Criminal)\n",
    "prediction_rfc = model.predict(test1)\n",
    "print(prediction_rfc[:10])"
   ]
  },
  {
   "cell_type": "markdown",
   "metadata": {},
   "source": [
    "Now prediction result and prediction ids are  saved on the file named submission1.csv"
   ]
  },
  {
   "cell_type": "code",
   "execution_count": 37,
   "metadata": {
    "collapsed": true
   },
   "outputs": [],
   "source": [
    "sub = pd.DataFrame({'PERID': ts_PERID, 'Criminal': prediction_rfc})\n",
    "filename = 'submission.csv'\n",
    "sub.to_csv(filename, index=False)"
   ]
  },
  {
   "cell_type": "code",
   "execution_count": 38,
   "metadata": {
    "collapsed": true
   },
   "outputs": [],
   "source": [
    "df=pd.read_csv('submission.csv')\n",
    "columnsTitles=[\"PERID\",\"Criminal\"]\n",
    "df=df.reindex(columns=columnsTitles)\n",
    "filename = 'submission1.csv'\n",
    "df.to_csv(filename, index=False)"
   ]
  },
  {
   "cell_type": "markdown",
   "metadata": {},
   "source": [
    "I got the 94.646 score in the leaderboard. "
   ]
  }
 ],
 "metadata": {
  "kernelspec": {
   "display_name": "Python 3",
   "language": "python",
   "name": "python3"
  },
  "language_info": {
   "codemirror_mode": {
    "name": "ipython",
    "version": 3
   },
   "file_extension": ".py",
   "mimetype": "text/x-python",
   "name": "python",
   "nbconvert_exporter": "python",
   "pygments_lexer": "ipython3",
   "version": "3.6.1"
  }
 },
 "nbformat": 4,
 "nbformat_minor": 2
}
