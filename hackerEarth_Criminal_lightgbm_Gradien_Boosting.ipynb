{
 "cells": [
  {
   "cell_type": "code",
   "execution_count": 2,
   "metadata": {
    "collapsed": true
   },
   "outputs": [],
   "source": [
    "%matplotlib inline\n",
    "import numpy as np\n",
    "import os\n",
    "import matplotlib.pyplot as plt\n",
    "import seaborn as sns\n",
    "import pandas as pd"
   ]
  },
  {
   "cell_type": "markdown",
   "metadata": {},
   "source": [
    "after import change to respectivedirectory and read the csv file using pandas."
   ]
  },
  {
   "cell_type": "code",
   "execution_count": 3,
   "metadata": {
    "collapsed": true
   },
   "outputs": [],
   "source": [
    "os.chdir('C:\\\\Users\\\\royal\\\\Downloads\\\\Compressed\\\\data\\\\d17428d0-e-Criminal')"
   ]
  },
  {
   "cell_type": "code",
   "execution_count": 4,
   "metadata": {
    "collapsed": true
   },
   "outputs": [],
   "source": [
    "train=pd.read_csv('criminal_train.csv')"
   ]
  },
  {
   "cell_type": "code",
   "execution_count": 5,
   "metadata": {
    "collapsed": true
   },
   "outputs": [],
   "source": [
    "test=pd.read_csv('criminal_test.csv')"
   ]
  },
  {
   "cell_type": "code",
   "execution_count": 5,
   "metadata": {
    "collapsed": true
   },
   "outputs": [
    {
     "data": {
      "text/html": [
       "<div>\n",
       "<style>\n",
       "    .dataframe thead tr:only-child th {\n",
       "        text-align: right;\n",
       "    }\n",
       "\n",
       "    .dataframe thead th {\n",
       "        text-align: left;\n",
       "    }\n",
       "\n",
       "    .dataframe tbody tr th {\n",
       "        vertical-align: top;\n",
       "    }\n",
       "</style>\n",
       "<table border=\"1\" class=\"dataframe\">\n",
       "  <thead>\n",
       "    <tr style=\"text-align: right;\">\n",
       "      <th></th>\n",
       "      <th>PERID</th>\n",
       "      <th>IFATHER</th>\n",
       "      <th>NRCH17_2</th>\n",
       "      <th>IRHHSIZ2</th>\n",
       "      <th>IIHHSIZ2</th>\n",
       "      <th>IRKI17_2</th>\n",
       "      <th>IIKI17_2</th>\n",
       "      <th>IRHH65_2</th>\n",
       "      <th>IIHH65_2</th>\n",
       "      <th>PRXRETRY</th>\n",
       "      <th>...</th>\n",
       "      <th>TOOLONG</th>\n",
       "      <th>TROUBUND</th>\n",
       "      <th>PDEN10</th>\n",
       "      <th>COUTYP2</th>\n",
       "      <th>MAIIN102</th>\n",
       "      <th>AIIND102</th>\n",
       "      <th>ANALWT_C</th>\n",
       "      <th>VESTR</th>\n",
       "      <th>VEREP</th>\n",
       "      <th>Criminal</th>\n",
       "    </tr>\n",
       "  </thead>\n",
       "  <tbody>\n",
       "    <tr>\n",
       "      <th>0</th>\n",
       "      <td>25095143</td>\n",
       "      <td>4</td>\n",
       "      <td>2</td>\n",
       "      <td>4</td>\n",
       "      <td>1</td>\n",
       "      <td>3</td>\n",
       "      <td>1</td>\n",
       "      <td>1</td>\n",
       "      <td>1</td>\n",
       "      <td>99</td>\n",
       "      <td>...</td>\n",
       "      <td>1</td>\n",
       "      <td>2</td>\n",
       "      <td>1</td>\n",
       "      <td>1</td>\n",
       "      <td>2</td>\n",
       "      <td>2</td>\n",
       "      <td>3884.805998</td>\n",
       "      <td>40026</td>\n",
       "      <td>1</td>\n",
       "      <td>0</td>\n",
       "    </tr>\n",
       "    <tr>\n",
       "      <th>1</th>\n",
       "      <td>13005143</td>\n",
       "      <td>4</td>\n",
       "      <td>1</td>\n",
       "      <td>3</td>\n",
       "      <td>1</td>\n",
       "      <td>2</td>\n",
       "      <td>1</td>\n",
       "      <td>1</td>\n",
       "      <td>1</td>\n",
       "      <td>99</td>\n",
       "      <td>...</td>\n",
       "      <td>2</td>\n",
       "      <td>2</td>\n",
       "      <td>2</td>\n",
       "      <td>3</td>\n",
       "      <td>2</td>\n",
       "      <td>2</td>\n",
       "      <td>1627.108106</td>\n",
       "      <td>40015</td>\n",
       "      <td>2</td>\n",
       "      <td>1</td>\n",
       "    </tr>\n",
       "    <tr>\n",
       "      <th>2</th>\n",
       "      <td>67415143</td>\n",
       "      <td>4</td>\n",
       "      <td>1</td>\n",
       "      <td>2</td>\n",
       "      <td>1</td>\n",
       "      <td>2</td>\n",
       "      <td>1</td>\n",
       "      <td>1</td>\n",
       "      <td>1</td>\n",
       "      <td>99</td>\n",
       "      <td>...</td>\n",
       "      <td>2</td>\n",
       "      <td>2</td>\n",
       "      <td>2</td>\n",
       "      <td>3</td>\n",
       "      <td>2</td>\n",
       "      <td>2</td>\n",
       "      <td>4344.957980</td>\n",
       "      <td>40024</td>\n",
       "      <td>1</td>\n",
       "      <td>0</td>\n",
       "    </tr>\n",
       "    <tr>\n",
       "      <th>3</th>\n",
       "      <td>70925143</td>\n",
       "      <td>4</td>\n",
       "      <td>0</td>\n",
       "      <td>2</td>\n",
       "      <td>1</td>\n",
       "      <td>1</td>\n",
       "      <td>1</td>\n",
       "      <td>1</td>\n",
       "      <td>1</td>\n",
       "      <td>99</td>\n",
       "      <td>...</td>\n",
       "      <td>2</td>\n",
       "      <td>2</td>\n",
       "      <td>1</td>\n",
       "      <td>1</td>\n",
       "      <td>2</td>\n",
       "      <td>2</td>\n",
       "      <td>792.521931</td>\n",
       "      <td>40027</td>\n",
       "      <td>1</td>\n",
       "      <td>0</td>\n",
       "    </tr>\n",
       "    <tr>\n",
       "      <th>4</th>\n",
       "      <td>75235143</td>\n",
       "      <td>1</td>\n",
       "      <td>0</td>\n",
       "      <td>6</td>\n",
       "      <td>1</td>\n",
       "      <td>4</td>\n",
       "      <td>1</td>\n",
       "      <td>1</td>\n",
       "      <td>1</td>\n",
       "      <td>99</td>\n",
       "      <td>...</td>\n",
       "      <td>2</td>\n",
       "      <td>2</td>\n",
       "      <td>2</td>\n",
       "      <td>2</td>\n",
       "      <td>2</td>\n",
       "      <td>2</td>\n",
       "      <td>1518.118526</td>\n",
       "      <td>40001</td>\n",
       "      <td>2</td>\n",
       "      <td>0</td>\n",
       "    </tr>\n",
       "  </tbody>\n",
       "</table>\n",
       "<p>5 rows × 72 columns</p>\n",
       "</div>"
      ],
      "text/plain": [
       "      PERID  IFATHER  NRCH17_2  IRHHSIZ2  IIHHSIZ2  IRKI17_2  IIKI17_2  \\\n",
       "0  25095143        4         2         4         1         3         1   \n",
       "1  13005143        4         1         3         1         2         1   \n",
       "2  67415143        4         1         2         1         2         1   \n",
       "3  70925143        4         0         2         1         1         1   \n",
       "4  75235143        1         0         6         1         4         1   \n",
       "\n",
       "   IRHH65_2  IIHH65_2  PRXRETRY    ...     TOOLONG  TROUBUND  PDEN10  COUTYP2  \\\n",
       "0         1         1        99    ...           1         2       1        1   \n",
       "1         1         1        99    ...           2         2       2        3   \n",
       "2         1         1        99    ...           2         2       2        3   \n",
       "3         1         1        99    ...           2         2       1        1   \n",
       "4         1         1        99    ...           2         2       2        2   \n",
       "\n",
       "   MAIIN102  AIIND102     ANALWT_C  VESTR  VEREP  Criminal  \n",
       "0         2         2  3884.805998  40026      1         0  \n",
       "1         2         2  1627.108106  40015      2         1  \n",
       "2         2         2  4344.957980  40024      1         0  \n",
       "3         2         2   792.521931  40027      1         0  \n",
       "4         2         2  1518.118526  40001      2         0  \n",
       "\n",
       "[5 rows x 72 columns]"
      ]
     },
     "execution_count": 5,
     "metadata": {},
     "output_type": "execute_result"
    }
   ],
   "source": [
    "##first 5 rows of training data\n",
    "train.head()"
   ]
  },
  {
   "cell_type": "code",
   "execution_count": 41,
   "metadata": {},
   "outputs": [
    {
     "data": {
      "text/plain": [
       "72"
      ]
     },
     "execution_count": 41,
     "metadata": {},
     "output_type": "execute_result"
    }
   ],
   "source": [
    "#column names\n",
    "train.columns"
   ]
  },
  {
   "cell_type": "code",
   "execution_count": 7,
   "metadata": {
    "collapsed": true
   },
   "outputs": [
    {
     "data": {
      "text/html": [
       "<div>\n",
       "<style>\n",
       "    .dataframe thead tr:only-child th {\n",
       "        text-align: right;\n",
       "    }\n",
       "\n",
       "    .dataframe thead th {\n",
       "        text-align: left;\n",
       "    }\n",
       "\n",
       "    .dataframe tbody tr th {\n",
       "        vertical-align: top;\n",
       "    }\n",
       "</style>\n",
       "<table border=\"1\" class=\"dataframe\">\n",
       "  <thead>\n",
       "    <tr style=\"text-align: right;\">\n",
       "      <th></th>\n",
       "      <th>PERID</th>\n",
       "      <th>IFATHER</th>\n",
       "      <th>NRCH17_2</th>\n",
       "      <th>IRHHSIZ2</th>\n",
       "      <th>IIHHSIZ2</th>\n",
       "      <th>IRKI17_2</th>\n",
       "      <th>IIKI17_2</th>\n",
       "      <th>IRHH65_2</th>\n",
       "      <th>IIHH65_2</th>\n",
       "      <th>PRXRETRY</th>\n",
       "      <th>...</th>\n",
       "      <th>POVERTY3</th>\n",
       "      <th>TOOLONG</th>\n",
       "      <th>TROUBUND</th>\n",
       "      <th>PDEN10</th>\n",
       "      <th>COUTYP2</th>\n",
       "      <th>MAIIN102</th>\n",
       "      <th>AIIND102</th>\n",
       "      <th>ANALWT_C</th>\n",
       "      <th>VESTR</th>\n",
       "      <th>VEREP</th>\n",
       "    </tr>\n",
       "  </thead>\n",
       "  <tbody>\n",
       "    <tr>\n",
       "      <th>0</th>\n",
       "      <td>66583679</td>\n",
       "      <td>4</td>\n",
       "      <td>0</td>\n",
       "      <td>4</td>\n",
       "      <td>1</td>\n",
       "      <td>2</td>\n",
       "      <td>1</td>\n",
       "      <td>1</td>\n",
       "      <td>1</td>\n",
       "      <td>99</td>\n",
       "      <td>...</td>\n",
       "      <td>2</td>\n",
       "      <td>2</td>\n",
       "      <td>2</td>\n",
       "      <td>1</td>\n",
       "      <td>1</td>\n",
       "      <td>2</td>\n",
       "      <td>2</td>\n",
       "      <td>16346.795400</td>\n",
       "      <td>40020</td>\n",
       "      <td>1</td>\n",
       "    </tr>\n",
       "    <tr>\n",
       "      <th>1</th>\n",
       "      <td>35494679</td>\n",
       "      <td>4</td>\n",
       "      <td>0</td>\n",
       "      <td>4</td>\n",
       "      <td>1</td>\n",
       "      <td>1</td>\n",
       "      <td>1</td>\n",
       "      <td>1</td>\n",
       "      <td>1</td>\n",
       "      <td>99</td>\n",
       "      <td>...</td>\n",
       "      <td>3</td>\n",
       "      <td>2</td>\n",
       "      <td>2</td>\n",
       "      <td>1</td>\n",
       "      <td>1</td>\n",
       "      <td>2</td>\n",
       "      <td>2</td>\n",
       "      <td>3008.863906</td>\n",
       "      <td>40044</td>\n",
       "      <td>2</td>\n",
       "    </tr>\n",
       "    <tr>\n",
       "      <th>2</th>\n",
       "      <td>79424679</td>\n",
       "      <td>2</td>\n",
       "      <td>0</td>\n",
       "      <td>3</td>\n",
       "      <td>1</td>\n",
       "      <td>2</td>\n",
       "      <td>1</td>\n",
       "      <td>1</td>\n",
       "      <td>1</td>\n",
       "      <td>99</td>\n",
       "      <td>...</td>\n",
       "      <td>1</td>\n",
       "      <td>2</td>\n",
       "      <td>2</td>\n",
       "      <td>2</td>\n",
       "      <td>2</td>\n",
       "      <td>2</td>\n",
       "      <td>2</td>\n",
       "      <td>266.952503</td>\n",
       "      <td>40040</td>\n",
       "      <td>2</td>\n",
       "    </tr>\n",
       "    <tr>\n",
       "      <th>3</th>\n",
       "      <td>11744679</td>\n",
       "      <td>4</td>\n",
       "      <td>0</td>\n",
       "      <td>6</td>\n",
       "      <td>1</td>\n",
       "      <td>2</td>\n",
       "      <td>1</td>\n",
       "      <td>1</td>\n",
       "      <td>1</td>\n",
       "      <td>99</td>\n",
       "      <td>...</td>\n",
       "      <td>3</td>\n",
       "      <td>2</td>\n",
       "      <td>2</td>\n",
       "      <td>1</td>\n",
       "      <td>1</td>\n",
       "      <td>2</td>\n",
       "      <td>2</td>\n",
       "      <td>5386.928199</td>\n",
       "      <td>40017</td>\n",
       "      <td>1</td>\n",
       "    </tr>\n",
       "    <tr>\n",
       "      <th>4</th>\n",
       "      <td>31554679</td>\n",
       "      <td>1</td>\n",
       "      <td>0</td>\n",
       "      <td>4</td>\n",
       "      <td>1</td>\n",
       "      <td>3</td>\n",
       "      <td>1</td>\n",
       "      <td>1</td>\n",
       "      <td>1</td>\n",
       "      <td>99</td>\n",
       "      <td>...</td>\n",
       "      <td>3</td>\n",
       "      <td>2</td>\n",
       "      <td>1</td>\n",
       "      <td>1</td>\n",
       "      <td>1</td>\n",
       "      <td>2</td>\n",
       "      <td>2</td>\n",
       "      <td>173.489895</td>\n",
       "      <td>40017</td>\n",
       "      <td>1</td>\n",
       "    </tr>\n",
       "  </tbody>\n",
       "</table>\n",
       "<p>5 rows × 71 columns</p>\n",
       "</div>"
      ],
      "text/plain": [
       "      PERID  IFATHER  NRCH17_2  IRHHSIZ2  IIHHSIZ2  IRKI17_2  IIKI17_2  \\\n",
       "0  66583679        4         0         4         1         2         1   \n",
       "1  35494679        4         0         4         1         1         1   \n",
       "2  79424679        2         0         3         1         2         1   \n",
       "3  11744679        4         0         6         1         2         1   \n",
       "4  31554679        1         0         4         1         3         1   \n",
       "\n",
       "   IRHH65_2  IIHH65_2  PRXRETRY  ...    POVERTY3  TOOLONG  TROUBUND  PDEN10  \\\n",
       "0         1         1        99  ...           2        2         2       1   \n",
       "1         1         1        99  ...           3        2         2       1   \n",
       "2         1         1        99  ...           1        2         2       2   \n",
       "3         1         1        99  ...           3        2         2       1   \n",
       "4         1         1        99  ...           3        2         1       1   \n",
       "\n",
       "   COUTYP2  MAIIN102  AIIND102      ANALWT_C  VESTR  VEREP  \n",
       "0        1         2         2  16346.795400  40020      1  \n",
       "1        1         2         2   3008.863906  40044      2  \n",
       "2        2         2         2    266.952503  40040      2  \n",
       "3        1         2         2   5386.928199  40017      1  \n",
       "4        1         2         2    173.489895  40017      1  \n",
       "\n",
       "[5 rows x 71 columns]"
      ]
     },
     "execution_count": 7,
     "metadata": {},
     "output_type": "execute_result"
    }
   ],
   "source": [
    "##first 5 rows of testing data\n",
    "test.head()"
   ]
  },
  {
   "cell_type": "code",
   "execution_count": 8,
   "metadata": {},
   "outputs": [
    {
     "data": {
      "text/plain": [
       "Criminal\n",
       "0    42543\n",
       "1     3175\n",
       "Name: Criminal, dtype: int64"
      ]
     },
     "execution_count": 8,
     "metadata": {},
     "output_type": "execute_result"
    }
   ],
   "source": [
    "##get count of criminal type using groupby function\n",
    "train.groupby('Criminal')['Criminal'].count()"
   ]
  },
  {
   "cell_type": "markdown",
   "metadata": {},
   "source": [
    "Get the unique values for all the columns to know type of values and range of values \n",
    "\n",
    "And there is any need for feature scaling or not."
   ]
  },
  {
   "cell_type": "code",
   "execution_count": 20,
   "metadata": {
    "collapsed": true
   },
   "outputs": [
    {
     "name": "stdout",
     "output_type": "stream",
     "text": [
      "PERID [66583679 35494679 79424679 ..., 80134730 65323398 90906563]\n",
      "IFATHER [4 2 1 3]\n",
      "NRCH17_2 [ 0  1  3  2 -1]\n",
      "IRHHSIZ2 [4 3 6 2 1 5]\n",
      "IIHHSIZ2 [1 3]\n",
      "IRKI17_2 [2 1 3 4]\n",
      "IIKI17_2 [1 3]\n",
      "IRHH65_2 [1 2 3]\n",
      "IIHH65_2 [1 3 2]\n",
      "PRXRETRY [99  2 94 98]\n",
      "PRXYDATA [99  1  2 94 98]\n",
      "MEDICARE [ 2  1 97 94 85 98]\n",
      "CAIDCHIP [ 2  1 94 97 85 98]\n",
      "CHAMPUS [ 2  1 94 85 98 97]\n",
      "PRVHLTIN [ 1  2 94 97 85 98]\n",
      "GRPHLTIN [ 1 99  2 98 97 94 85]\n",
      "HLTINNOS [99  2  1 94 98 97]\n",
      "HLCNOTYR [ 2 99  1 98 94 97 85]\n",
      "HLCNOTMO [99  1  4 10  2  3  7  9  6 98  8  5 11 12 94 97]\n",
      "HLCLAST [99  4  5  3  1  2 98 94 97]\n",
      "HLLOSRSN [99  3 10  2  4  7  1  6 98  5 11 12  8 97 94 85  9]\n",
      "HLNVCOST [99  6  1 98 97]\n",
      "HLNVOFFR [99  6  1 98 97]\n",
      "HLNVREF [99  6 98 97  1]\n",
      "HLNVNEED [99  6 98  1 97]\n",
      "HLNVSOR [99  1  6 98 97]\n",
      "IRMCDCHP [2 1]\n",
      "IIMCDCHP [1 3]\n",
      "IRMEDICR [2 1]\n",
      "IIMEDICR [1 3]\n",
      "IRCHMPUS [2 1]\n",
      "IICHMPUS [1 3]\n",
      "IRPRVHLT [1 2]\n",
      "IIPRVHLT [1 3]\n",
      "IROTHHLT [99  2  1]\n",
      "IIOTHHLT [9 1 3]\n",
      "HLCALLFG [98  1]\n",
      "HLCALL99 [98  1]\n",
      "ANYHLTI2 [ 1  2 94 97 98]\n",
      "IRINSUR4 [1 2]\n",
      "IIINSUR4 [1 3]\n",
      "OTHINS [2 1]\n",
      "CELLNOTCL [ 2  1 97 94 85 98]\n",
      "CELLWRKNG [ 1  2 97 94 85 98]\n",
      "IRFAMSOC [2 1]\n",
      "IIFAMSOC [1 3]\n",
      "IRFAMSSI [2 1]\n",
      "IIFAMSSI [1 3]\n",
      "IRFSTAMP [2 1]\n",
      "IIFSTAMP [1 3]\n",
      "IRFAMPMT [2 1]\n",
      "IIFAMPMT [1 3]\n",
      "IRFAMSVC [2 1]\n",
      "IIFAMSVC [1 3]\n",
      "IRWELMOS [99  6  1 10  3 12  5  9  4  2  7  8 11]\n",
      "IIWELMOS [9 1 3]\n",
      "IRPINC3 [2 7 1 5 3 4 6]\n",
      "IRFAMIN3 [3 7 2 6 4 5 1]\n",
      "IIPINC3 [1 3]\n",
      "IIFAMIN3 [1 3]\n",
      "GOVTPROG [2 1]\n",
      "POVERTY3 [ 2  3  1 -1]\n",
      "TOOLONG [ 2  1 98]\n",
      "TROUBUND [ 2  1 98]\n",
      "PDEN10 [1 2 3]\n",
      "COUTYP2 [1 2 3]\n",
      "MAIIN102 [2 1]\n",
      "AIIND102 [2 1]\n",
      "ANALWT_C [ 16346.7954      3008.863906     266.9525029 ...,   4372.865218\n",
      "   6436.160608    3637.081687 ]\n",
      "VESTR [40020 40044 40040 40017 40035 40015 40022 40023 40019 40006 40042 40007\n",
      " 40047 40014 40029 40048 40028 40005 40009 40026 40033 40050 40045 40030\n",
      " 40041 40036 40010 40027 40046 40002 40034 40001 40039 40013 40003 40008\n",
      " 40025 40031 40016 40012 40021 40049 40018 40024 40032 40043 40038 40037\n",
      " 40004 40011]\n",
      "VEREP [1 2]\n"
     ]
    }
   ],
   "source": [
    "# for i in train.columns:\n",
    "#     print(i,train[i].unique())\n",
    "for i in test.columns:\n",
    "    print(i,test[i].unique())"
   ]
  },
  {
   "cell_type": "markdown",
   "metadata": {},
   "source": [
    "null values are represented in the data using -1 value.\n",
    "\n",
    "so get the len of -1 containing rows and then drop those rows."
   ]
  },
  {
   "cell_type": "code",
   "execution_count": 9,
   "metadata": {
    "collapsed": true
   },
   "outputs": [
    {
     "name": "stdout",
     "output_type": "stream",
     "text": [
      "PERID 0\n",
      "IFATHER 0\n",
      "NRCH17_2 8\n",
      "IRHHSIZ2 0\n",
      "IIHHSIZ2 0\n",
      "IRKI17_2 0\n",
      "IIKI17_2 0\n",
      "IRHH65_2 0\n",
      "IIHH65_2 0\n",
      "PRXRETRY 0\n",
      "PRXYDATA 0\n",
      "MEDICARE 0\n",
      "CAIDCHIP 0\n",
      "CHAMPUS 0\n",
      "PRVHLTIN 0\n",
      "GRPHLTIN 0\n",
      "HLTINNOS 0\n",
      "HLCNOTYR 0\n",
      "HLCNOTMO 0\n",
      "HLCLAST 0\n",
      "HLLOSRSN 0\n",
      "HLNVCOST 0\n",
      "HLNVOFFR 0\n",
      "HLNVREF 0\n",
      "HLNVNEED 0\n",
      "HLNVSOR 0\n",
      "IRMCDCHP 0\n",
      "IIMCDCHP 0\n",
      "IRMEDICR 0\n",
      "IIMEDICR 0\n",
      "IRCHMPUS 0\n",
      "IICHMPUS 0\n",
      "IRPRVHLT 0\n",
      "IIPRVHLT 0\n",
      "IROTHHLT 0\n",
      "IIOTHHLT 0\n",
      "HLCALLFG 0\n",
      "HLCALL99 0\n",
      "ANYHLTI2 0\n",
      "IRINSUR4 0\n",
      "IIINSUR4 0\n",
      "OTHINS 0\n",
      "CELLNOTCL 0\n",
      "CELLWRKNG 0\n",
      "IRFAMSOC 0\n",
      "IIFAMSOC 0\n",
      "IRFAMSSI 0\n",
      "IIFAMSSI 0\n",
      "IRFSTAMP 0\n",
      "IIFSTAMP 0\n",
      "IRFAMPMT 0\n",
      "IIFAMPMT 0\n",
      "IRFAMSVC 0\n",
      "IIFAMSVC 0\n",
      "IRWELMOS 0\n",
      "IIWELMOS 0\n",
      "IRPINC3 0\n",
      "IRFAMIN3 0\n",
      "IIPINC3 0\n",
      "IIFAMIN3 0\n",
      "GOVTPROG 0\n",
      "POVERTY3 76\n",
      "TOOLONG 0\n",
      "TROUBUND 0\n",
      "PDEN10 0\n",
      "COUTYP2 0\n",
      "MAIIN102 0\n",
      "AIIND102 0\n",
      "ANALWT_C 0\n",
      "VESTR 0\n",
      "VEREP 0\n"
     ]
    }
   ],
   "source": [
    "# for i in train.columns:\n",
    "#     print(i,len(train[train[i]==-1]))\n",
    "for i in test.columns:\n",
    "    print(i,len(test[test[i]==-1]))"
   ]
  },
  {
   "cell_type": "code",
   "execution_count": 16,
   "metadata": {
    "collapsed": true
   },
   "outputs": [
    {
     "name": "stdout",
     "output_type": "stream",
     "text": [
      "PERID Int64Index([], dtype='int64')\n",
      "IFATHER Int64Index([], dtype='int64')\n",
      "NRCH17_2 Int64Index([], dtype='int64')\n",
      "IRHHSIZ2 Int64Index([], dtype='int64')\n",
      "IIHHSIZ2 Int64Index([], dtype='int64')\n",
      "IRKI17_2 Int64Index([], dtype='int64')\n",
      "IIKI17_2 Int64Index([], dtype='int64')\n",
      "IRHH65_2 Int64Index([], dtype='int64')\n",
      "IIHH65_2 Int64Index([], dtype='int64')\n",
      "PRXRETRY Int64Index([], dtype='int64')\n",
      "PRXYDATA Int64Index([], dtype='int64')\n",
      "MEDICARE Int64Index([], dtype='int64')\n",
      "CAIDCHIP Int64Index([], dtype='int64')\n",
      "CHAMPUS Int64Index([], dtype='int64')\n",
      "PRVHLTIN Int64Index([], dtype='int64')\n",
      "GRPHLTIN Int64Index([], dtype='int64')\n",
      "HLTINNOS Int64Index([], dtype='int64')\n",
      "HLCNOTYR Int64Index([], dtype='int64')\n",
      "HLCNOTMO Int64Index([], dtype='int64')\n",
      "HLCLAST Int64Index([], dtype='int64')\n",
      "HLLOSRSN Int64Index([], dtype='int64')\n",
      "HLNVCOST Int64Index([], dtype='int64')\n",
      "HLNVOFFR Int64Index([], dtype='int64')\n",
      "HLNVREF Int64Index([], dtype='int64')\n",
      "HLNVNEED Int64Index([], dtype='int64')\n",
      "HLNVSOR Int64Index([], dtype='int64')\n",
      "IRMCDCHP Int64Index([], dtype='int64')\n",
      "IIMCDCHP Int64Index([], dtype='int64')\n",
      "IRMEDICR Int64Index([], dtype='int64')\n",
      "IIMEDICR Int64Index([], dtype='int64')\n",
      "IRCHMPUS Int64Index([], dtype='int64')\n",
      "IICHMPUS Int64Index([], dtype='int64')\n",
      "IRPRVHLT Int64Index([], dtype='int64')\n",
      "IIPRVHLT Int64Index([], dtype='int64')\n",
      "IROTHHLT Int64Index([], dtype='int64')\n",
      "IIOTHHLT Int64Index([], dtype='int64')\n",
      "HLCALLFG Int64Index([], dtype='int64')\n",
      "HLCALL99 Int64Index([], dtype='int64')\n",
      "ANYHLTI2 Int64Index([], dtype='int64')\n",
      "IRINSUR4 Int64Index([], dtype='int64')\n",
      "IIINSUR4 Int64Index([], dtype='int64')\n",
      "OTHINS Int64Index([], dtype='int64')\n",
      "CELLNOTCL Int64Index([], dtype='int64')\n",
      "CELLWRKNG Int64Index([], dtype='int64')\n",
      "IRFAMSOC Int64Index([], dtype='int64')\n",
      "IIFAMSOC Int64Index([], dtype='int64')\n",
      "IRFAMSSI Int64Index([], dtype='int64')\n",
      "IIFAMSSI Int64Index([], dtype='int64')\n",
      "IRFSTAMP Int64Index([], dtype='int64')\n",
      "IIFSTAMP Int64Index([], dtype='int64')\n",
      "IRFAMPMT Int64Index([], dtype='int64')\n",
      "IIFAMPMT Int64Index([], dtype='int64')\n",
      "IRFAMSVC Int64Index([], dtype='int64')\n",
      "IIFAMSVC Int64Index([], dtype='int64')\n",
      "IRWELMOS Int64Index([], dtype='int64')\n",
      "IIWELMOS Int64Index([], dtype='int64')\n",
      "IRPINC3 Int64Index([], dtype='int64')\n",
      "IRFAMIN3 Int64Index([], dtype='int64')\n",
      "IIPINC3 Int64Index([], dtype='int64')\n",
      "IIFAMIN3 Int64Index([], dtype='int64')\n",
      "GOVTPROG Int64Index([], dtype='int64')\n",
      "POVERTY3 Int64Index([], dtype='int64')\n",
      "TOOLONG Int64Index([], dtype='int64')\n",
      "TROUBUND Int64Index([], dtype='int64')\n",
      "PDEN10 Int64Index([], dtype='int64')\n",
      "COUTYP2 Int64Index([], dtype='int64')\n",
      "MAIIN102 Int64Index([], dtype='int64')\n",
      "AIIND102 Int64Index([], dtype='int64')\n",
      "ANALWT_C Int64Index([], dtype='int64')\n",
      "VESTR Int64Index([], dtype='int64')\n",
      "VEREP Int64Index([], dtype='int64')\n",
      "Criminal Int64Index([], dtype='int64')\n"
     ]
    }
   ],
   "source": [
    "for i in train.columns:\n",
    "    print(i,train[train[i]==-1].index)"
   ]
  },
  {
   "cell_type": "code",
   "execution_count": 6,
   "metadata": {
    "collapsed": true
   },
   "outputs": [],
   "source": [
    "train.drop([19230, 44281],inplace=True)"
   ]
  },
  {
   "cell_type": "code",
   "execution_count": 7,
   "metadata": {},
   "outputs": [
    {
     "data": {
      "text/plain": [
       "45716"
      ]
     },
     "execution_count": 7,
     "metadata": {},
     "output_type": "execute_result"
    }
   ],
   "source": [
    "len(train)"
   ]
  },
  {
   "cell_type": "code",
   "execution_count": 12,
   "metadata": {
    "scrolled": true
   },
   "outputs": [
    {
     "data": {
      "text/html": [
       "<div>\n",
       "<style>\n",
       "    .dataframe thead tr:only-child th {\n",
       "        text-align: right;\n",
       "    }\n",
       "\n",
       "    .dataframe thead th {\n",
       "        text-align: left;\n",
       "    }\n",
       "\n",
       "    .dataframe tbody tr th {\n",
       "        vertical-align: top;\n",
       "    }\n",
       "</style>\n",
       "<table border=\"1\" class=\"dataframe\">\n",
       "  <thead>\n",
       "    <tr style=\"text-align: right;\">\n",
       "      <th>Criminal</th>\n",
       "      <th>0</th>\n",
       "      <th>1</th>\n",
       "    </tr>\n",
       "    <tr>\n",
       "      <th>POVERTY3</th>\n",
       "      <th></th>\n",
       "      <th></th>\n",
       "    </tr>\n",
       "  </thead>\n",
       "  <tbody>\n",
       "    <tr>\n",
       "      <th>-1</th>\n",
       "      <td>235</td>\n",
       "      <td>106</td>\n",
       "    </tr>\n",
       "    <tr>\n",
       "      <th>1</th>\n",
       "      <td>8489</td>\n",
       "      <td>842</td>\n",
       "    </tr>\n",
       "    <tr>\n",
       "      <th>2</th>\n",
       "      <td>8767</td>\n",
       "      <td>1458</td>\n",
       "    </tr>\n",
       "    <tr>\n",
       "      <th>3</th>\n",
       "      <td>25050</td>\n",
       "      <td>769</td>\n",
       "    </tr>\n",
       "  </tbody>\n",
       "</table>\n",
       "</div>"
      ],
      "text/plain": [
       "Criminal      0     1\n",
       "POVERTY3             \n",
       "-1          235   106\n",
       " 1         8489   842\n",
       " 2         8767  1458\n",
       " 3        25050   769"
      ]
     },
     "execution_count": 12,
     "metadata": {},
     "output_type": "execute_result"
    }
   ],
   "source": [
    "# pd.crosstab(train.POVERTY3,train.Criminal)\n",
    "pd.crosstab(train.POVERTY3,train.Criminal)"
   ]
  },
  {
   "cell_type": "markdown",
   "metadata": {},
   "source": [
    "get the count of different value in the column \n",
    "\n",
    "so that -1 will replaced by highest occur value in the test data."
   ]
  },
  {
   "cell_type": "code",
   "execution_count": 13,
   "metadata": {
    "collapsed": true
   },
   "outputs": [
    {
     "data": {
      "text/plain": [
       "<matplotlib.axes._subplots.AxesSubplot at 0x9b5d5f8>"
      ]
     },
     "execution_count": 13,
     "metadata": {},
     "output_type": "execute_result"
    },
    {
     "data": {
      "image/png": "[encoded data removed]",
      "text/plain": [
       "<matplotlib.figure.Figure at 0xabbdf60>"
      ]
     },
     "metadata": {},
     "output_type": "display_data"
    }
   ],
   "source": [
    "sns.countplot(test.NRCH17_2)"
   ]
  },
  {
   "cell_type": "code",
   "execution_count": 8,
   "metadata": {
    "collapsed": true
   },
   "outputs": [],
   "source": [
    "l=['POVERTY3','NRCH17_2']\n",
    "for i in l:\n",
    "    train.drop(train[train[i]==-1].index,inplace=True)"
   ]
  },
  {
   "cell_type": "code",
   "execution_count": 9,
   "metadata": {
    "collapsed": true
   },
   "outputs": [],
   "source": [
    "##get the perid column and criminal column have to used during creating model\n",
    "tr_PERID=train['PERID']\n",
    "ts_Criminal=train['Criminal']\n",
    "\n",
    "train1=train.drop(['PERID','Criminal'],axis=1)"
   ]
  },
  {
   "cell_type": "code",
   "execution_count": 30,
   "metadata": {},
   "outputs": [
    {
     "data": {
      "text/html": [
       "<div>\n",
       "<style>\n",
       "    .dataframe thead tr:only-child th {\n",
       "        text-align: right;\n",
       "    }\n",
       "\n",
       "    .dataframe thead th {\n",
       "        text-align: left;\n",
       "    }\n",
       "\n",
       "    .dataframe tbody tr th {\n",
       "        vertical-align: top;\n",
       "    }\n",
       "</style>\n",
       "<table border=\"1\" class=\"dataframe\">\n",
       "  <thead>\n",
       "    <tr style=\"text-align: right;\">\n",
       "      <th></th>\n",
       "      <th>IFATHER</th>\n",
       "      <th>NRCH17_2</th>\n",
       "      <th>IRHHSIZ2</th>\n",
       "      <th>IIHHSIZ2</th>\n",
       "      <th>IRKI17_2</th>\n",
       "      <th>IIKI17_2</th>\n",
       "      <th>IRHH65_2</th>\n",
       "      <th>IIHH65_2</th>\n",
       "      <th>PRXRETRY</th>\n",
       "      <th>PRXYDATA</th>\n",
       "      <th>...</th>\n",
       "      <th>POVERTY3</th>\n",
       "      <th>TOOLONG</th>\n",
       "      <th>TROUBUND</th>\n",
       "      <th>PDEN10</th>\n",
       "      <th>COUTYP2</th>\n",
       "      <th>MAIIN102</th>\n",
       "      <th>AIIND102</th>\n",
       "      <th>ANALWT_C</th>\n",
       "      <th>VESTR</th>\n",
       "      <th>VEREP</th>\n",
       "    </tr>\n",
       "  </thead>\n",
       "  <tbody>\n",
       "    <tr>\n",
       "      <th>0</th>\n",
       "      <td>4</td>\n",
       "      <td>0</td>\n",
       "      <td>4</td>\n",
       "      <td>1</td>\n",
       "      <td>2</td>\n",
       "      <td>1</td>\n",
       "      <td>1</td>\n",
       "      <td>1</td>\n",
       "      <td>99</td>\n",
       "      <td>99</td>\n",
       "      <td>...</td>\n",
       "      <td>2</td>\n",
       "      <td>2</td>\n",
       "      <td>2</td>\n",
       "      <td>1</td>\n",
       "      <td>1</td>\n",
       "      <td>2</td>\n",
       "      <td>2</td>\n",
       "      <td>16346.795400</td>\n",
       "      <td>40020</td>\n",
       "      <td>1</td>\n",
       "    </tr>\n",
       "    <tr>\n",
       "      <th>1</th>\n",
       "      <td>4</td>\n",
       "      <td>0</td>\n",
       "      <td>4</td>\n",
       "      <td>1</td>\n",
       "      <td>1</td>\n",
       "      <td>1</td>\n",
       "      <td>1</td>\n",
       "      <td>1</td>\n",
       "      <td>99</td>\n",
       "      <td>99</td>\n",
       "      <td>...</td>\n",
       "      <td>3</td>\n",
       "      <td>2</td>\n",
       "      <td>2</td>\n",
       "      <td>1</td>\n",
       "      <td>1</td>\n",
       "      <td>2</td>\n",
       "      <td>2</td>\n",
       "      <td>3008.863906</td>\n",
       "      <td>40044</td>\n",
       "      <td>2</td>\n",
       "    </tr>\n",
       "    <tr>\n",
       "      <th>2</th>\n",
       "      <td>2</td>\n",
       "      <td>0</td>\n",
       "      <td>3</td>\n",
       "      <td>1</td>\n",
       "      <td>2</td>\n",
       "      <td>1</td>\n",
       "      <td>1</td>\n",
       "      <td>1</td>\n",
       "      <td>99</td>\n",
       "      <td>1</td>\n",
       "      <td>...</td>\n",
       "      <td>1</td>\n",
       "      <td>2</td>\n",
       "      <td>2</td>\n",
       "      <td>2</td>\n",
       "      <td>2</td>\n",
       "      <td>2</td>\n",
       "      <td>2</td>\n",
       "      <td>266.952503</td>\n",
       "      <td>40040</td>\n",
       "      <td>2</td>\n",
       "    </tr>\n",
       "    <tr>\n",
       "      <th>3</th>\n",
       "      <td>4</td>\n",
       "      <td>0</td>\n",
       "      <td>6</td>\n",
       "      <td>1</td>\n",
       "      <td>2</td>\n",
       "      <td>1</td>\n",
       "      <td>1</td>\n",
       "      <td>1</td>\n",
       "      <td>99</td>\n",
       "      <td>99</td>\n",
       "      <td>...</td>\n",
       "      <td>3</td>\n",
       "      <td>2</td>\n",
       "      <td>2</td>\n",
       "      <td>1</td>\n",
       "      <td>1</td>\n",
       "      <td>2</td>\n",
       "      <td>2</td>\n",
       "      <td>5386.928199</td>\n",
       "      <td>40017</td>\n",
       "      <td>1</td>\n",
       "    </tr>\n",
       "    <tr>\n",
       "      <th>4</th>\n",
       "      <td>1</td>\n",
       "      <td>0</td>\n",
       "      <td>4</td>\n",
       "      <td>1</td>\n",
       "      <td>3</td>\n",
       "      <td>1</td>\n",
       "      <td>1</td>\n",
       "      <td>1</td>\n",
       "      <td>99</td>\n",
       "      <td>1</td>\n",
       "      <td>...</td>\n",
       "      <td>3</td>\n",
       "      <td>2</td>\n",
       "      <td>1</td>\n",
       "      <td>1</td>\n",
       "      <td>1</td>\n",
       "      <td>2</td>\n",
       "      <td>2</td>\n",
       "      <td>173.489895</td>\n",
       "      <td>40017</td>\n",
       "      <td>1</td>\n",
       "    </tr>\n",
       "  </tbody>\n",
       "</table>\n",
       "<p>5 rows × 70 columns</p>\n",
       "</div>"
      ],
      "text/plain": [
       "   IFATHER  NRCH17_2  IRHHSIZ2  IIHHSIZ2  IRKI17_2  IIKI17_2  IRHH65_2  \\\n",
       "0        4         0         4         1         2         1         1   \n",
       "1        4         0         4         1         1         1         1   \n",
       "2        2         0         3         1         2         1         1   \n",
       "3        4         0         6         1         2         1         1   \n",
       "4        1         0         4         1         3         1         1   \n",
       "\n",
       "   IIHH65_2  PRXRETRY  PRXYDATA  ...    POVERTY3  TOOLONG  TROUBUND  PDEN10  \\\n",
       "0         1        99        99  ...           2        2         2       1   \n",
       "1         1        99        99  ...           3        2         2       1   \n",
       "2         1        99         1  ...           1        2         2       2   \n",
       "3         1        99        99  ...           3        2         2       1   \n",
       "4         1        99         1  ...           3        2         1       1   \n",
       "\n",
       "   COUTYP2  MAIIN102  AIIND102      ANALWT_C  VESTR  VEREP  \n",
       "0        1         2         2  16346.795400  40020      1  \n",
       "1        1         2         2   3008.863906  40044      2  \n",
       "2        2         2         2    266.952503  40040      2  \n",
       "3        1         2         2   5386.928199  40017      1  \n",
       "4        1         2         2    173.489895  40017      1  \n",
       "\n",
       "[5 rows x 70 columns]"
      ]
     },
     "execution_count": 30,
     "metadata": {},
     "output_type": "execute_result"
    }
   ],
   "source": [
    "# train1.head()\n",
    "test1.head()"
   ]
  },
  {
   "cell_type": "code",
   "execution_count": 10,
   "metadata": {
    "collapsed": true
   },
   "outputs": [],
   "source": [
    "test['POVERTY3'].replace(-1,3,inplace=True)\n",
    "test['NRCH17_2'].replace(-1,0,inplace=True)"
   ]
  },
  {
   "cell_type": "code",
   "execution_count": 11,
   "metadata": {
    "collapsed": true
   },
   "outputs": [],
   "source": [
    "ts_PERID=test['PERID']"
   ]
  },
  {
   "cell_type": "code",
   "execution_count": 12,
   "metadata": {
    "collapsed": true
   },
   "outputs": [],
   "source": [
    "test1=test.drop(['PERID'],axis=1)"
   ]
  },
  {
   "cell_type": "markdown",
   "metadata": {},
   "source": [
    "first using the Training data only split into train and test in (.7,.3) ratio.\n",
    "\n",
    "so that different models accuracy can be found.\n",
    "\n",
    "following models are tested.\n",
    "1. KNeighborsClassifier\n",
    "2. LinearRegression\n",
    "3. RandomForestClassifier\n",
    "4. LogisticRegression\n",
    "5. Lasso\n",
    "\n",
    "And in the last RandomForestClassifier have been chosen because of accuracy near to 94.6."
   ]
  },
  {
   "cell_type": "code",
   "execution_count": 42,
   "metadata": {
    "collapsed": true,
    "scrolled": true
   },
   "outputs": [],
   "source": [
    "from sklearn.neighbors import KNeighborsClassifier\n",
    "from sklearn.cross_validation import train_test_split\n",
    "x,y = train1,ts_Criminal\n",
    "x_train,x_test,y_train,y_test = train_test_split(x,y,test_size = 0.3,random_state = 1)\n",
    "dd1={}\n",
    "for i in range(2,10):\n",
    "    model = KNeighborsClassifier(n_neighbors = i)\n",
    "    model.fit(x_train,y_train)\n",
    "    prediction_knn = model.predict(x_test)\n",
    "    dd1[i]=model.score(x_test,y_test)"
   ]
  },
  {
   "cell_type": "code",
   "execution_count": 43,
   "metadata": {},
   "outputs": [
    {
     "data": {
      "text/plain": [
       "{2: 0.93001177509567268,\n",
       " 3: 0.92279952899617312,\n",
       " 4: 0.93317633205769801,\n",
       " 5: 0.931262879010892,\n",
       " 6: 0.93428024727700909,\n",
       " 7: 0.9338386811892847,\n",
       " 8: 0.93428024727700909,\n",
       " 9: 0.93413305858110096}"
      ]
     },
     "execution_count": 43,
     "metadata": {},
     "output_type": "execute_result"
    }
   ],
   "source": [
    "dd1"
   ]
  },
  {
   "cell_type": "code",
   "execution_count": 22,
   "metadata": {},
   "outputs": [
    {
     "data": {
      "text/plain": [
       "272"
      ]
     },
     "execution_count": 22,
     "metadata": {},
     "output_type": "execute_result"
    }
   ],
   "source": [
    "len([i for i in prediction_knn if i==1])"
   ]
  },
  {
   "cell_type": "code",
   "execution_count": 23,
   "metadata": {},
   "outputs": [
    {
     "name": "stdout",
     "output_type": "stream",
     "text": [
      "0.21202416471\n"
     ]
    }
   ],
   "source": [
    "from sklearn.linear_model import LinearRegression\n",
    "from sklearn.cross_validation import train_test_split\n",
    "x,y = train1,ts_Criminal\n",
    "x_train,x_test,y_train,y_test = train_test_split(x,y,test_size = 0.3,random_state = 1)\n",
    "model = LinearRegression()\n",
    "model.fit(x_train,y_train)\n",
    "prediction_lr = model.predict(x_test)\n",
    "print(model.score(x_test,y_test))"
   ]
  },
  {
   "cell_type": "code",
   "execution_count": 34,
   "metadata": {
    "collapsed": true
   },
   "outputs": [],
   "source": [
    "from sklearn.ensemble import RandomForestClassifier\n",
    "from sklearn.cross_validation import train_test_split\n",
    "x,y = train1,ts_Criminal\n",
    "x_train,x_test,y_train,y_test = train_test_split(x,y,test_size = 0.3,random_state = 1)\n",
    "dd={}\n",
    "for i in range(2,18):\n",
    "    model = RandomForestClassifier(random_state = i)\n",
    "    model.fit(x_train,y_train)\n",
    "    prediction_rfc = model.predict(x_test)\n",
    "    dd[i]=model.score(x_test,y_test)"
   ]
  },
  {
   "cell_type": "code",
   "execution_count": 35,
   "metadata": {
    "collapsed": true
   },
   "outputs": [
    {
     "data": {
      "text/plain": [
       "{2: 0.94936708860759489,\n",
       " 3: 0.94936708860759489,\n",
       " 4: 0.94885192817191644,\n",
       " 5: 0.94855755078010007,\n",
       " 6: 0.94789520164851337,\n",
       " 7: 0.94826317338828381,\n",
       " 8: 0.94782160730055931,\n",
       " 9: 0.94929349425964082,\n",
       " 10: 0.94855755078010007,\n",
       " 11: 0.94980865469531939,\n",
       " 12: 0.94944068295554906,\n",
       " 13: 0.95047100382690608,\n",
       " 14: 0.94980865469531939,\n",
       " 15: 0.94877833382396237,\n",
       " 16: 0.94752722990874305,\n",
       " 17: 0.9491463055637327}"
      ]
     },
     "execution_count": 35,
     "metadata": {},
     "output_type": "execute_result"
    }
   ],
   "source": [
    "dd"
   ]
  },
  {
   "cell_type": "code",
   "execution_count": 13,
   "metadata": {
    "collapsed": true
   },
   "outputs": [
    {
     "name": "stderr",
     "output_type": "stream",
     "text": [
      "C:\\Users\\royal\\Anaconda3\\lib\\site-packages\\sklearn\\cross_validation.py:44: DeprecationWarning: This module was deprecated in version 0.18 in favor of the model_selection module into which all the refactored classes and functions are moved. Also note that the interface of the new CV iterators are different from that of this module. This module will be removed in 0.20.\n",
      "  \"This module will be removed in 0.20.\", DeprecationWarning)\n"
     ]
    },
    {
     "name": "stdout",
     "output_type": "stream",
     "text": [
      "0.934795407713\n"
     ]
    }
   ],
   "source": [
    "from sklearn.linear_model import LogisticRegression\n",
    "from sklearn.cross_validation import train_test_split\n",
    "x,y = train1,ts_Criminal\n",
    "x_train,x_test,y_train,y_test = train_test_split(x,y,test_size = 0.3,random_state = 1)\n",
    "model = LogisticRegression()\n",
    "model.fit(x_train,y_train)\n",
    "prediction_logr = model.predict(x_test)\n",
    "print(model.score(x_test,y_test))"
   ]
  },
  {
   "cell_type": "code",
   "execution_count": 14,
   "metadata": {},
   "outputs": [
    {
     "name": "stdout",
     "output_type": "stream",
     "text": [
      "0.0291507377099\n"
     ]
    }
   ],
   "source": [
    "from sklearn.linear_model import Lasso\n",
    "from sklearn.cross_validation import train_test_split\n",
    "x,y = train1,ts_Criminal\n",
    "x_train,x_test,y_train,y_test = train_test_split(x,y,test_size = 0.3,random_state = 1)\n",
    "model = Lasso()\n",
    "model.fit(x_train,y_train)\n",
    "prediction_logr = model.predict(x_test)\n",
    "print(model.score(x_test,y_test))"
   ]
  },
  {
   "cell_type": "code",
   "execution_count": 36,
   "metadata": {},
   "outputs": [
    {
     "name": "stdout",
     "output_type": "stream",
     "text": [
      "[0 0 0 0 0 0 0 0 0 0]\n"
     ]
    }
   ],
   "source": [
    "from sklearn.ensemble import RandomForestClassifier\n",
    "model = RandomForestClassifier(random_state = 13)\n",
    "model.fit(train1,ts_Criminal)\n",
    "prediction_rfc = model.predict(test1)\n",
    "print(prediction_rfc[:10])"
   ]
  },
  {
   "cell_type": "markdown",
   "metadata": {},
   "source": [
    "Now prediction result and prediction ids are  saved on the file named submission1.csv"
   ]
  },
  {
   "cell_type": "code",
   "execution_count": 131,
   "metadata": {
    "collapsed": true
   },
   "outputs": [],
   "source": [
    "sub = pd.DataFrame({'PERID': ts_PERID, 'Criminal': prediction_rfc})\n",
    "filename = 'submission.csv'\n",
    "sub.to_csv(filename, index=False)"
   ]
  },
  {
   "cell_type": "code",
   "execution_count": 132,
   "metadata": {
    "collapsed": true
   },
   "outputs": [],
   "source": [
    "df=pd.read_csv('submission.csv')\n",
    "columnsTitles=[\"PERID\",\"Criminal\"]\n",
    "df=df.reindex(columns=columnsTitles)\n",
    "filename = 'submission1.csv'\n",
    "df.to_csv(filename, index=False)"
   ]
  },
  {
   "cell_type": "markdown",
   "metadata": {},
   "source": [
    "Got the 94.646 score in the leaderboard. "
   ]
  },
  {
   "cell_type": "markdown",
   "metadata": {},
   "source": [
    "\n",
    "\n",
    "\n",
    "\n"
   ]
  },
  {
   "cell_type": "markdown",
   "metadata": {},
   "source": [
    "Do the feature scaling-\n",
    "1. Data Standardization - Standardization refers to shifting the distribution of each attribute to have a mean of zero and a standard deviation of one\n",
    "\n",
    "2. Data Normalization - Normalization refers to rescaling real valued numeric attributes into the range 0 and 1.\n",
    "\n",
    "and then do the RandomForestClassifier.\n",
    "\n",
    "very minimal increase in training accuracy but same and low testing accuracy."
   ]
  },
  {
   "cell_type": "code",
   "execution_count": 14,
   "metadata": {
    "collapsed": true
   },
   "outputs": [],
   "source": [
    "from sklearn import preprocessing\n",
    "st_train1 = preprocessing.normalize(train1)\n",
    "#st_train1 = preprocessing.scale(train1)\n",
    "st_test = preprocessing.normalize(test1)"
   ]
  },
  {
   "cell_type": "code",
   "execution_count": 35,
   "metadata": {
    "collapsed": true
   },
   "outputs": [],
   "source": [
    "from sklearn.ensemble import RandomForestClassifier\n",
    "from sklearn.cross_validation import train_test_split\n",
    "x,y = st_train1,ts_Criminal\n",
    "x_train,x_test,y_train,y_test = train_test_split(x,y,test_size = 0.3,random_state = 1)\n",
    "dd={}\n",
    "for i in range(2,18):\n",
    "    model = RandomForestClassifier(random_state = i)\n",
    "    model.fit(x_train,y_train)\n",
    "    prediction_rfc = model.predict(x_test)\n",
    "    dd[i]=model.score(x_test,y_test)"
   ]
  },
  {
   "cell_type": "code",
   "execution_count": 32,
   "metadata": {},
   "outputs": [
    {
     "name": "stdout",
     "output_type": "stream",
     "text": [
      "[0 0 0 0 0 0 0 0 0 0]\n"
     ]
    }
   ],
   "source": [
    "from sklearn.ensemble import RandomForestClassifier\n",
    "model = RandomForestClassifier(random_state = 13)\n",
    "model.fit(st_train1,ts_Criminal)\n",
    "prediction_rfc = model.predict(st_test)\n",
    "print(prediction_rfc[:10])"
   ]
  },
  {
   "cell_type": "markdown",
   "metadata": {},
   "source": [
    "Applying Neural network\n",
    "\n",
    "using keras with simple 1 layer with 500 hiddenn units and apply the 'relu' activation funtion.\n",
    "\n",
    "used the Dropout to 20% and used the Sochastic Gradient descent with 0.05 learning rate."
   ]
  },
  {
   "cell_type": "code",
   "execution_count": 39,
   "metadata": {
    "collapsed": true
   },
   "outputs": [],
   "source": [
    "from keras.models import Sequential\n",
    "from keras.layers import Dense\n",
    "from keras.optimizers import SGD\n",
    "from keras.utils import np_utils"
   ]
  },
  {
   "cell_type": "code",
   "execution_count": null,
   "metadata": {
    "collapsed": true
   },
   "outputs": [],
   "source": [
    "from sklearn.cross_validation import train_test_split\n",
    "x,y = st_train1,ts_Criminal\n",
    "x_train,x_test,y_train,y_test = train_test_split(x,y,test_size = 0.3,random_state = 1)\n",
    "\n",
    "Y_Train = np_utils.to_categorical(y_train, 2)\n",
    "Y_Test = np_utils.to_categorical(y_test, 2)\n",
    "\n",
    "# single layer regression model\n",
    "model = Sequential()\n",
    "model.add(Dense(output_dim=500, input_dim=70, init='normal'))\n",
    "model.add(Activation('relu'))\n",
    "model.add(Dropout(0.2))\n",
    "model.add(Dense(output_dim=2, input_dim=500, init='normal'))\n",
    "model.add(Activation('softmax'))\n",
    "\n",
    "model.compile(optimizer=SGD(lr=0.05), loss='categorical_crossentropy', metrics=['accuracy'])\n",
    "model.summary()\n",
    "\n",
    "# Train\n",
    "history = model.fit(x_train, Y_Train, nb_epoch=10, batch_size=100, verbose=1)\n",
    "\n",
    "# Evaluate\n",
    "evaluation = model.evaluate(x_test, Y_Test, verbose=1)"
   ]
  },
  {
   "cell_type": "code",
   "execution_count": 69,
   "metadata": {},
   "outputs": [
    {
     "name": "stdout",
     "output_type": "stream",
     "text": [
      "[0.11489861840719436, 0.94966146596431877]\n"
     ]
    }
   ],
   "source": [
    "print(evaluation)"
   ]
  },
  {
   "cell_type": "markdown",
   "metadata": {},
   "source": [
    "used the deep neural network with 3 layers deep.\n",
    "\n",
    "with dropout 20% on first layer and 50% on next layer.\n",
    "\n",
    "used the RMSprop to reduce  the error with 0.001 learning rate."
   ]
  },
  {
   "cell_type": "code",
   "execution_count": null,
   "metadata": {
    "collapsed": true,
    "scrolled": true
   },
   "outputs": [],
   "source": [
    "from keras.layers import Dense, Activation, Dropout\n",
    "from keras.optimizers import RMSprop\n",
    "from sklearn.cross_validation import train_test_split\n",
    "x,y = st_train1,ts_Criminal\n",
    "x_train,x_test,y_train,y_test = train_test_split(x,y,test_size = 0.3,random_state = 1)\n",
    "\n",
    "Y_Train = np_utils.to_categorical(y_train, 2)\n",
    "Y_Test = np_utils.to_categorical(y_test, 2)\n",
    "\n",
    "# Logistic regression model\n",
    "model = Sequential()\n",
    "model.add(Dense(output_dim=100, input_dim=70, init='normal'))\n",
    "model.add(Activation('relu'))\n",
    "model.add(Dropout(0.2))\n",
    "model.add(Dense(output_dim=100, input_dim=100, init='normal'))\n",
    "model.add(Activation('relu'))\n",
    "model.add(Dropout(0.5))\n",
    "model.add(Dense(output_dim=2, input_dim=100, init='normal'))\n",
    "model.add(Activation('softmax'))\n",
    "\n",
    "model.compile(optimizer=RMSprop(lr=0.001, rho=0.9), loss='categorical_crossentropy', metrics=['accuracy'])\n",
    "model.summary()\n",
    "\n",
    "\n",
    "# model.add(Dense(output_dim=100, input_dim=70, init='normal', activation='sigmoid'))\n",
    "# model.add(Dense(output_dim=100, input_dim=100, init='normal', activation='sigmoid'))\n",
    "# model.add(Dense(output_dim=2, input_dim=100, init='normal', activation='softmax'))\n",
    "\n",
    "# model.compile(optimizer=SGD(lr=0.05), loss='categorical_crossentropy', metrics=['accuracy'])\n",
    "# model.summary()\n",
    "\n",
    "# Train\n",
    "history = model.fit(x_train, Y_Train, nb_epoch=10, batch_size=100, verbose=1)\n",
    "\n",
    "# Evaluate\n",
    "evaluation = model.evaluate(x_test, Y_Test, verbose=1)"
   ]
  },
  {
   "cell_type": "code",
   "execution_count": 53,
   "metadata": {
    "collapsed": true
   },
   "outputs": [],
   "source": [
    "pred=model.predict_classes(x_test)"
   ]
  },
  {
   "cell_type": "code",
   "execution_count": 55,
   "metadata": {},
   "outputs": [
    {
     "data": {
      "text/plain": [
       "array([1, 0, 0, 1, 0, 0, 0, 0, 0, 0], dtype=int64)"
      ]
     },
     "execution_count": 55,
     "metadata": {},
     "output_type": "execute_result"
    }
   ],
   "source": [
    "pred[:10]"
   ]
  },
  {
   "cell_type": "markdown",
   "metadata": {},
   "source": [
    "Last run using deep neural network with same configuration of above but this time for 50 Epochs.\n",
    "\n",
    "Got the accuracy of 95.90% on training data."
   ]
  },
  {
   "cell_type": "code",
   "execution_count": null,
   "metadata": {
    "collapsed": true,
    "scrolled": true
   },
   "outputs": [],
   "source": [
    "from keras.layers import Dense, Activation, Dropout\n",
    "from keras.optimizers import RMSprop\n",
    "\n",
    "Y_Train = np_utils.to_categorical(ts_Criminal, 2)\n",
    "\n",
    "# Logistic regression model\n",
    "model = Sequential()\n",
    "model.add(Dense(output_dim=100, input_dim=70, init='normal'))\n",
    "model.add(Activation('relu'))\n",
    "model.add(Dropout(0.2))\n",
    "model.add(Dense(output_dim=100, input_dim=100, init='normal'))\n",
    "model.add(Activation('relu'))\n",
    "model.add(Dropout(0.5))\n",
    "model.add(Dense(output_dim=2, input_dim=100, init='normal'))\n",
    "model.add(Activation('softmax'))\n",
    "\n",
    "model.compile(optimizer=RMSprop(lr=0.001, rho=0.9), loss='categorical_crossentropy', metrics=['accuracy'])\n",
    "model.summary()\n",
    "\n",
    "# Train\n",
    "history = model.fit(st_train1, Y_Train, nb_epoch=50, batch_size=100, verbose=1)\n",
    "\n",
    "# predict classes\n",
    "prediction_rfc=model.predict_classes(st_test)"
   ]
  },
  {
   "cell_type": "markdown",
   "metadata": {},
   "source": [
    "Now Got 95.101 score on competition leaderboard"
   ]
  },
  {
   "cell_type": "markdown",
   "metadata": {},
   "source": [
    "Applying xgboost\n",
    "\n",
    "first apply the simple xgboost model with default settings\n",
    "\n",
    "got the accuracy of 95.54% on training data."
   ]
  },
  {
   "cell_type": "code",
   "execution_count": 15,
   "metadata": {
    "collapsed": true
   },
   "outputs": [],
   "source": [
    "import xgboost as xgb"
   ]
  },
  {
   "cell_type": "code",
   "execution_count": 16,
   "metadata": {
    "collapsed": true
   },
   "outputs": [],
   "source": [
    "from xgboost import XGBClassifier\n",
    "from xgboost import XGBRegressor\n",
    "from sklearn.metrics import accuracy_score\n",
    "from sklearn.model_selection import GridSearchCV\n",
    "from sklearn.model_selection import StratifiedKFold"
   ]
  },
  {
   "cell_type": "code",
   "execution_count": 128,
   "metadata": {
    "collapsed": true
   },
   "outputs": [],
   "source": [
    "x,y = st_train1,ts_Criminal\n",
    "x_train,x_test,y_train,y_test = train_test_split(x,y,test_size = 0.3,random_state = 1)\n",
    "\n",
    "model = XGBClassifier(max_depth=5)\n",
    "model.fit(x_train, y_train)\n",
    "\n",
    "y_pred = model.predict(x_test)\n",
    "prediction_rfc = [int(round(value)) for value in y_pred]\n",
    "\n",
    "accuracy = accuracy_score(y_test, predictions)"
   ]
  },
  {
   "cell_type": "code",
   "execution_count": 129,
   "metadata": {},
   "outputs": [
    {
     "data": {
      "text/plain": [
       "0.95363556078893141"
      ]
     },
     "execution_count": 129,
     "metadata": {},
     "output_type": "execute_result"
    }
   ],
   "source": [
    "accuracy"
   ]
  },
  {
   "cell_type": "code",
   "execution_count": 149,
   "metadata": {
    "collapsed": true
   },
   "outputs": [],
   "source": [
    "x,y = st_train1,ts_Criminal\n",
    "x_train,x_test,y_train,y_test = train_test_split(x,y,test_size = 0.3,random_state = 1)\n",
    "dd2={}\n",
    "for i in range(3,9):\n",
    "    \n",
    "    model = XGBClassifier(max_depth=i)\n",
    "    model.fit(x_train, y_train)\n",
    "\n",
    "    y_pred = model.predict(x_test)\n",
    "    predictions = [round(value) for value in y_pred]\n",
    "\n",
    "    accuracy = accuracy_score(y_test, predictions)\n",
    "    dd2[i]=accuracy"
   ]
  },
  {
   "cell_type": "code",
   "execution_count": 141,
   "metadata": {},
   "outputs": [
    {
     "name": "stdout",
     "output_type": "stream",
     "text": [
      "0.955549013836\n"
     ]
    }
   ],
   "source": [
    "print(accuracy)"
   ]
  },
  {
   "cell_type": "code",
   "execution_count": 17,
   "metadata": {
    "collapsed": true
   },
   "outputs": [],
   "source": [
    "model = XGBClassifier(max_depth=5)\n",
    "model.fit(st_train1,ts_Criminal)\n",
    "\n",
    "y_pred = model.predict(st_test)\n",
    "prediction_rfc = [int(round(value)) for value in y_pred]"
   ]
  },
  {
   "cell_type": "markdown",
   "metadata": {},
   "source": [
    "Plot the feature importance graph to know which feature we can leave \n",
    "\n",
    "and which only feature can be used to train and test other models"
   ]
  },
  {
   "cell_type": "code",
   "execution_count": 134,
   "metadata": {
    "scrolled": false
   },
   "outputs": [
    {
     "data": {
      "text/plain": [
       "<matplotlib.axes._subplots.AxesSubplot at 0x1e30c358>"
      ]
     },
     "execution_count": 134,
     "metadata": {},
     "output_type": "execute_result"
    },
    {
     "data": {
      "image/png": "[encoded data removed]",
      "text/plain": [
       "<matplotlib.figure.Figure at 0x1e4c00b8>"
      ]
     },
     "metadata": {},
     "output_type": "display_data"
    }
   ],
   "source": [
    "#fig, ax = plt.subplots(figsize=(120, 120))\n",
    "xgb.plot_importance(model)"
   ]
  },
  {
   "cell_type": "markdown",
   "metadata": {},
   "source": [
    "Now Got 95.258 score on competition leaderboard"
   ]
  },
  {
   "cell_type": "markdown",
   "metadata": {},
   "source": [
    "Applying lightgbm (Light Gradient boosting)\n",
    "\n",
    "first apply the simple lightgbm model with default settings\n",
    "\n",
    "got the accuracy of 95.31% on training data.\n",
    "\n",
    "lightgbm is 3-4 times faster than Xgboost and gave same and more accuracy."
   ]
  },
  {
   "cell_type": "code",
   "execution_count": 19,
   "metadata": {
    "collapsed": true
   },
   "outputs": [],
   "source": [
    "import lightgbm as lgb\n",
    "from sklearn.metrics import accuracy_score"
   ]
  },
  {
   "cell_type": "code",
   "execution_count": 49,
   "metadata": {},
   "outputs": [],
   "source": [
    "model=lgb.LGBMClassifier()\n",
    "x,y = st_train1,ts_Criminal\n",
    "x_train,x_test,y_train,y_test = train_test_split(x,y,test_size = 0.3,random_state = 1)\n",
    "\n",
    "model.fit(x_train, y_train)\n",
    "y_pred = model.predict(x_test)\n",
    "predictions = [round(value) for value in y_pred]\n",
    "accuracy = accuracy_score(y_test, predictions)"
   ]
  },
  {
   "cell_type": "code",
   "execution_count": 47,
   "metadata": {},
   "outputs": [
    {
     "data": {
      "text/plain": [
       "0.95319399470120691"
      ]
     },
     "execution_count": 47,
     "metadata": {},
     "output_type": "execute_result"
    }
   ],
   "source": [
    "accuracy"
   ]
  },
  {
   "cell_type": "markdown",
   "metadata": {},
   "source": [
    "after that create the tuned model with param\n",
    "\n",
    "which gave the 95.53% accuracy on trainning data."
   ]
  },
  {
   "cell_type": "code",
   "execution_count": 88,
   "metadata": {},
   "outputs": [],
   "source": [
    "x,y = st_train1,ts_Criminal\n",
    "x_train,x_test,y_train,y_test = train_test_split(x,y,test_size = 0.3,random_state = 1)\n",
    "\n",
    "train_data=lgb.Dataset(x_train,label=y_train)\n",
    "\n",
    "param = {'num_leaves':100,'objective':'binary','max_depth':8,'learning_rate':.05,'max_bin':400}\n",
    "param['metric'] = ['auc', 'binary_logloss']\n",
    "\n",
    "model=lgb.train(param,train_data,100)\n",
    "\n",
    "y_pred=model.predict(x_test)\n",
    "prediction_rfc = [int(round(value)) for value in y_pred]\n",
    "\n",
    "accuracy = accuracy_score(y_test, prediction_rfc)"
   ]
  },
  {
   "cell_type": "code",
   "execution_count": 89,
   "metadata": {},
   "outputs": [
    {
     "data": {
      "text/plain": [
       "0.95532823079187523"
      ]
     },
     "execution_count": 89,
     "metadata": {},
     "output_type": "execute_result"
    }
   ],
   "source": [
    "accuracy"
   ]
  },
  {
   "cell_type": "code",
   "execution_count": 130,
   "metadata": {
    "collapsed": true
   },
   "outputs": [],
   "source": [
    "train_data=lgb.Dataset(tr2,label=ts_Criminal)\n",
    "param = {'num_leaves':100,'objective':'binary','max_depth':8,'learning_rate':.05,'max_bin':400}\n",
    "param['metric'] = ['auc', 'binary_logloss']\n",
    "\n",
    "model=lgb.train(param,train_data,100)\n",
    "\n",
    "y_pred=model.predict(ts2)\n",
    "prediction_rfc = [int(round(value)) for value in y_pred]"
   ]
  },
  {
   "cell_type": "code",
   "execution_count": 115,
   "metadata": {
    "collapsed": true
   },
   "outputs": [
    {
     "name": "stdout",
     "output_type": "stream",
     "text": [
      "      feature          gain  split\n",
      "31  Column_31  3.820787e+01    100\n",
      "56  Column_56  2.315104e+01    326\n",
      "55  Column_55  1.226086e+01    215\n",
      "10  Column_10  5.270910e+00     66\n",
      "0    Column_0  4.073447e+00    446\n",
      "32  Column_32  2.714560e+00    135\n",
      "40  Column_40  1.354933e+00     45\n",
      "2    Column_2  1.099711e+00    302\n",
      "43  Column_43  1.096280e+00    159\n",
      "27  Column_27  8.976761e-01      9\n",
      "14  Column_14  8.509392e-01    199\n",
      "60  Column_60  6.439554e-01    174\n",
      "16  Column_16  6.005793e-01    120\n",
      "4    Column_4  5.177108e-01    144\n",
      "69  Column_69  5.033066e-01    156\n",
      "63  Column_63  4.345302e-01    116\n",
      "61  Column_61  4.107867e-01    120\n",
      "6    Column_6  3.943434e-01    121\n",
      "41  Column_41  3.872759e-01    201\n",
      "64  Column_64  3.833609e-01    119\n",
      "58  Column_58  3.827915e-01     91\n",
      "9    Column_9  3.808786e-01    194\n",
      "11  Column_11  3.181197e-01     89\n",
      "17  Column_17  3.146985e-01     80\n",
      "59  Column_59  3.092468e-01    100\n",
      "45  Column_45  2.481116e-01     59\n",
      "47  Column_47  2.479381e-01     83\n",
      "62  Column_62  2.102802e-01     52\n",
      "1    Column_1  1.939581e-01     80\n",
      "57  Column_57  1.834874e-01     46\n",
      "..        ...           ...    ...\n",
      "46  Column_46  8.001069e-02     22\n",
      "12  Column_12  7.961725e-02     22\n",
      "34  Column_34  6.193233e-02      9\n",
      "53  Column_53  5.339446e-02     16\n",
      "33  Column_33  5.308121e-02     18\n",
      "50  Column_50  4.781880e-02     15\n",
      "26  Column_26  4.775406e-02     10\n",
      "52  Column_52  4.753227e-02     18\n",
      "65  Column_65  3.785026e-02     26\n",
      "3    Column_3  3.681715e-02     42\n",
      "66  Column_66  3.215877e-02      8\n",
      "5    Column_5  3.043481e-02     14\n",
      "19  Column_19  2.624851e-02      8\n",
      "7    Column_7  2.608430e-02      6\n",
      "29  Column_29  1.999007e-02      7\n",
      "13  Column_13  1.978200e-02      7\n",
      "18  Column_18  1.437417e-02      5\n",
      "15  Column_15  1.212596e-02      8\n",
      "35  Column_35  8.133964e-03      3\n",
      "38  Column_38  3.682616e-03      5\n",
      "37  Column_37  2.763956e-03      4\n",
      "39  Column_39  7.869310e-05      1\n",
      "30  Column_30  5.468459e-17      4\n",
      "48  Column_48  8.763534e-20      1\n",
      "36  Column_36  0.000000e+00      0\n",
      "28  Column_28  0.000000e+00      0\n",
      "24  Column_24  0.000000e+00      0\n",
      "23  Column_23  0.000000e+00      0\n",
      "22  Column_22  0.000000e+00      0\n",
      "21  Column_21  0.000000e+00      0\n",
      "\n",
      "[70 rows x 3 columns]\n"
     ]
    },
    {
     "data": {
      "text/plain": [
       "<matplotlib.axes._subplots.AxesSubplot at 0xbaf3438>"
      ]
     },
     "execution_count": 115,
     "metadata": {},
     "output_type": "execute_result"
    },
    {
     "data": {
      "text/plain": [
       "<matplotlib.figure.Figure at 0xbab1d68>"
      ]
     },
     "metadata": {},
     "output_type": "display_data"
    },
    {
     "data": {
      "image/png": "[encoded data removed]",
      "text/plain": [
       "<matplotlib.figure.Figure at 0xbabc668>"
      ]
     },
     "metadata": {},
     "output_type": "display_data"
    }
   ],
   "source": [
    "gain = model.feature_importance('gain')\n",
    "ft = pd.DataFrame({'feature':model.feature_name(), 'split':model.feature_importance('split'), 'gain':100 * gain / gain.sum()}).sort_values('gain', ascending=False)\n",
    "print(ft)\n",
    "\n",
    "plt.figure()\n",
    "ft[['feature','gain']].head(25).plot(kind='barh', x='feature', y='gain', legend=False, figsize=(10, 20))"
   ]
  },
  {
   "cell_type": "markdown",
   "metadata": {},
   "source": [
    "Now Got 95.293 score on competition leaderboard"
   ]
  },
  {
   "cell_type": "markdown",
   "metadata": {},
   "source": [
    "with catboost got 95.48% accuracy in training.but it is more slower than above two"
   ]
  },
  {
   "cell_type": "code",
   "execution_count": 95,
   "metadata": {
    "collapsed": true
   },
   "outputs": [],
   "source": [
    "from catboost import CatBoostClassifier"
   ]
  },
  {
   "cell_type": "code",
   "execution_count": null,
   "metadata": {},
   "outputs": [],
   "source": [
    "model=CatBoostClassifier(iterations=80, depth=3, learning_rate=0.1, loss_function='Logloss')\n",
    "x,y = st_train1,ts_Criminal\n",
    "x_train,x_test,y_train,y_test = train_test_split(x,y,test_size = 0.3,random_state = 1)\n",
    "\n",
    "model.fit(st_train1, ts_Criminal)\n",
    "y_pred = model.predict(st_test)\n",
    "prediction_rfc = [int(round(value)) for value in y_pred]"
   ]
  },
  {
   "cell_type": "markdown",
   "metadata": {},
   "source": [
    "Got 95.101 score on competition scoreboard"
   ]
  },
  {
   "cell_type": "markdown",
   "metadata": {},
   "source": [
    "delete the features which got 0 gain in the feature importance.\n",
    "\n",
    "but final accuracy was same as before which is 95.293 score."
   ]
  },
  {
   "cell_type": "code",
   "execution_count": 124,
   "metadata": {},
   "outputs": [],
   "source": [
    "tr2=pd.DataFrame(st_train1)\n",
    "ts2=pd.DataFrame(st_test)\n",
    "\n",
    "tr2=tr2.drop([21,22,23,24,28,36],axis=1)\n",
    "ts2=ts2.drop([21,22,23,24,28,36],axis=1)"
   ]
  },
  {
   "cell_type": "code",
   "execution_count": 126,
   "metadata": {},
   "outputs": [],
   "source": [
    "x,y = tr2,ts_Criminal\n",
    "x_train,x_test,y_train,y_test = train_test_split(x,y,test_size = 0.3,random_state = 1)\n",
    "\n",
    "train_data=lgb.Dataset(x_train,label=y_train)\n",
    "\n",
    "param = {'num_leaves':100,'objective':'binary','max_depth':8,'learning_rate':.05,'max_bin':400}\n",
    "param['metric'] = ['auc', 'binary_logloss']\n",
    "\n",
    "model=lgb.train(param,train_data,100)\n",
    "\n",
    "y_pred=model.predict(x_test)\n",
    "prediction_rfc = [int(round(value)) for value in y_pred]\n",
    "\n",
    "accuracy = accuracy_score(y_test, prediction_rfc)"
   ]
  },
  {
   "cell_type": "code",
   "execution_count": 127,
   "metadata": {},
   "outputs": [
    {
     "data": {
      "text/plain": [
       "0.95488666470415073"
      ]
     },
     "execution_count": 127,
     "metadata": {},
     "output_type": "execute_result"
    }
   ],
   "source": [
    "accuracy"
   ]
  }
 ],
 "metadata": {
  "kernelspec": {
   "display_name": "Python 3",
   "language": "python",
   "name": "python3"
  },
  "language_info": {
   "codemirror_mode": {
    "name": "ipython",
    "version": 3
   },
   "file_extension": ".py",
   "mimetype": "text/x-python",
   "name": "python",
   "nbconvert_exporter": "python",
   "pygments_lexer": "ipython3",
   "version": "3.6.1"
  }
 },
 "nbformat": 4,
 "nbformat_minor": 2
}
